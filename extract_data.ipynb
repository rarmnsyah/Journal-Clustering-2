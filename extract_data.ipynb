{
 "cells": [
  {
   "cell_type": "code",
   "execution_count": null,
   "metadata": {},
   "outputs": [],
   "source": [
    "import pickle\n",
    "import pandas as pd"
   ]
  },
  {
   "cell_type": "code",
   "execution_count": null,
   "metadata": {},
   "outputs": [],
   "source": [
    "with open('data/all_publication_journal.pickle', 'rb') as f:\n",
    "    test = pickle.load(f)\n",
    "    \n",
    "test"
   ]
  },
  {
   "cell_type": "code",
   "execution_count": null,
   "metadata": {},
   "outputs": [],
   "source": [
    "len(test)"
   ]
  },
  {
   "cell_type": "code",
   "execution_count": null,
   "metadata": {},
   "outputs": [],
   "source": [
    "test['25024760']['publicationDetail']['10.11591/ijeecs.v1.i1.pp119-125']\n"
   ]
  },
  {
   "cell_type": "code",
   "execution_count": null,
   "metadata": {},
   "outputs": [],
   "source": [
    "extracted_journals = {\n",
    "    'journal' : [],\n",
    "    'title' : [],\n",
    "    'abstract' : []\n",
    "}\n",
    "\n",
    "for journal in test:\n",
    "    try:\n",
    "        for article in test[journal]['publicationDetail']:\n",
    "            extracted_journals['journal'].append(journal)\n",
    "            extracted_journals['title'].append(test[journal]['publicationDetail'][article]['title'])\n",
    "            extracted_journals['abstract'].append(test[journal]['publicationDetail'][article]['abstract'])\n",
    "    except:\n",
    "        pass\n",
    "\n",
    "extracted_journals = pd.DataFrame(extracted_journals)\n",
    "extracted_journals"
   ]
  },
  {
   "cell_type": "code",
   "execution_count": null,
   "metadata": {},
   "outputs": [],
   "source": [
    "extracted_journals.journal.nunique()"
   ]
  },
  {
   "cell_type": "code",
   "execution_count": null,
   "metadata": {},
   "outputs": [],
   "source": [
    "extracted_journals.to_csv('data/extracted_publication_journal_s1.csv', index=False)"
   ]
  },
  {
   "cell_type": "code",
   "execution_count": null,
   "metadata": {},
   "outputs": [],
   "source": [
    "with open('data/all_publication_journal_S2.pickle', 'rb') as f:\n",
    "    test_s2 = pickle.load(f)\n",
    "    \n",
    "test_s2"
   ]
  },
  {
   "cell_type": "code",
   "execution_count": null,
   "metadata": {},
   "outputs": [],
   "source": [
    "test_s2['23380403']['publicationDetail']"
   ]
  },
  {
   "cell_type": "code",
   "execution_count": null,
   "metadata": {},
   "outputs": [],
   "source": [
    "extracted_journals_s2 = {\n",
    "    'journal' : [],\n",
    "    'title' : [],\n",
    "    'abstract' : []\n",
    "}\n",
    "\n",
    "for journal in test_s2:\n",
    "    try:\n",
    "        for article in test_s2[journal]['publicationDetail']:\n",
    "            extracted_journals_s2['journal'].append(journal)\n",
    "            extracted_journals_s2['title'].append(test_s2[journal]['publicationDetail'][article]['title'])\n",
    "            extracted_journals_s2['abstract'].append(test_s2[journal]['publicationDetail'][article]['abstract'])\n",
    "    except:\n",
    "        pass\n",
    "\n",
    "extracted_journals_s2 = pd.DataFrame(extracted_journals_s2)\n",
    "extracted_journals_s2"
   ]
  },
  {
   "cell_type": "code",
   "execution_count": null,
   "metadata": {},
   "outputs": [],
   "source": [
    "extracted_journals_s2.to_csv('data/extracted_publication_journal_s2.csv', index=False)"
   ]
  }
 ],
 "metadata": {
  "kernelspec": {
   "display_name": ".venv",
   "language": "python",
   "name": "python3"
  },
  "language_info": {
   "codemirror_mode": {
    "name": "ipython",
    "version": 3
   },
   "file_extension": ".py",
   "mimetype": "text/x-python",
   "name": "python",
   "nbconvert_exporter": "python",
   "pygments_lexer": "ipython3",
   "version": "3.9.2"
  }
 },
 "nbformat": 4,
 "nbformat_minor": 2
}
