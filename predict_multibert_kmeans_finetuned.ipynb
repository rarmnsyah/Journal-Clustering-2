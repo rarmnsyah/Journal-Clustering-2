{
 "cells": [
  {
   "cell_type": "code",
   "execution_count": 1,
   "metadata": {},
   "outputs": [
    {
     "name": "stderr",
     "output_type": "stream",
     "text": [
      "c:\\Users\\LENOVO\\GitHub\\Jurnal-Clustering\\.venv\\lib\\site-packages\\tqdm\\auto.py:21: TqdmWarning: IProgress not found. Please update jupyter and ipywidgets. See https://ipywidgets.readthedocs.io/en/stable/user_install.html\n",
      "  from .autonotebook import tqdm as notebook_tqdm\n"
     ]
    }
   ],
   "source": [
    "import numpy as np\n",
    "import matplotlib.pyplot as plt\n",
    "import seaborn as sns\n",
    "import pandas as pd\n",
    "import torch        \n",
    "import joblib\n",
    "import torch.nn as nn\n",
    "\n",
    "from check_lang import id_to_en\n",
    "from transformers import BertTokenizer, AutoModel\n",
    "from sklearn.cluster import KMeans\n",
    "from sklearn.decomposition import PCA\n",
    "from Preprocessing import preprocess_text\n"
   ]
  },
  {
   "cell_type": "code",
   "execution_count": 2,
   "metadata": {},
   "outputs": [],
   "source": [
    "class ScoopPredictor:\n",
    "    def __init__(self, tokenizer, model, kmeans_model, threshold, pca_data, X_bert):\n",
    "        self.tokenizer = tokenizer\n",
    "        self.model = model\n",
    "        self.kmeans_model = kmeans_model\n",
    "        self.threshold = threshold\n",
    "        self.pca_data = pca_data\n",
    "        self.X_bert = X_bert\n",
    "\n",
    "    def fit_new_data_to_pca(self, new_data):\n",
    "        pca = PCA(n_components=self.pca_data.shape[1], random_state=0)\n",
    "        pca.fit(self.X_bert)\n",
    "        new_data_pca = pca.transform(new_data.reshape(1, -1))\n",
    "        return new_data_pca\n",
    "\n",
    "    def predict_scoop(self, title, abstract, translated = False):\n",
    "        processed_text = preprocess_text(title + abstract)\n",
    "        if translated:\n",
    "            if len(processed_text) > 5000:\n",
    "                processed_text = processed_text[:5000]\n",
    "            processed_text = id_to_en(processed_text)\n",
    "        # print(processed_text)\n",
    "        encoded_dict = self.tokenizer.encode_plus(\n",
    "            processed_text,\n",
    "            add_special_tokens=True,\n",
    "            max_length=128,\n",
    "            padding='max_length',\n",
    "            truncation=True,\n",
    "            return_attention_mask=True,\n",
    "            return_tensors='pt'\n",
    "        )\n",
    "        input_ids = encoded_dict['input_ids'].to('cpu')\n",
    "        attention_mask = encoded_dict['attention_mask'].to('cpu')\n",
    "\n",
    "        with torch.no_grad():\n",
    "            outputs = self.model(input_ids, attention_mask=attention_mask)\n",
    "            new_embedding = outputs.cpu().numpy().reshape(1, -1)\n",
    "\n",
    "        new_data_pca = self.fit_new_data_to_pca(new_embedding)\n",
    "        distance_to_centroid = np.sqrt(np.sum((new_data_pca - self.kmeans_model.cluster_centers_) ** 2, axis=1))\n",
    "        prediction = \"in scoop\" if distance_to_centroid <= self.threshold else \"out scoop\"\n",
    "        return prediction, new_data_pca, distance_to_centroid\n"
   ]
  },
  {
   "cell_type": "code",
   "execution_count": 3,
   "metadata": {},
   "outputs": [],
   "source": [
    "class BertClassifier(nn.Module):\n",
    "    def __init__(self, num_labels):\n",
    "        super(BertClassifier, self).__init__()\n",
    "        self.bert = AutoModel.from_pretrained('bert-base-multilingual-cased')\n",
    "        self.classifier = nn.Sequential(\n",
    "            nn.Linear(self.bert.config.hidden_size, 300),\n",
    "            nn.ReLU(),\n",
    "            nn.Linear(300, 100),\n",
    "            nn.ReLU(),\n",
    "            nn.Linear(100, 50),\n",
    "            nn.ReLU(),\n",
    "            nn.Linear(50, num_labels)\n",
    "        )\n",
    "\n",
    "    def forward(self, input_ids, attention_mask):\n",
    "        outputs = self.bert(input_ids=input_ids, attention_mask=attention_mask)\n",
    "        x = outputs['last_hidden_state'][:, 0, :]\n",
    "        x = self.classifier(x)\n",
    "        return x"
   ]
  },
  {
   "cell_type": "code",
   "execution_count": 4,
   "metadata": {},
   "outputs": [],
   "source": [
    "def load_data(jurnal_id, jurnal_type):\n",
    "    file_path = f\"./src/{jurnal_type}/{jurnal_id}\"\n",
    "    filename_kmeans = f\"{file_path}/{jurnal_id}_kmeans.pkl\"\n",
    "    kmeans_model = joblib.load(filename_kmeans)\n",
    "    threshold = np.load(f\"{file_path}/{jurnal_id}_threshold.npy\")\n",
    "    pca_data = np.load(f\"{file_path}/{jurnal_id}_pca_data.npy\")\n",
    "    X_bert = np.load(f\"{file_path}/{jurnal_id}_bert_data.npy\")\n",
    "    df_res = pd.read_csv(f\"{file_path}/{jurnal_id}_data_jurnal.csv\")\n",
    "    return kmeans_model, threshold, pca_data, X_bert, df_res"
   ]
  },
  {
   "cell_type": "code",
   "execution_count": 5,
   "metadata": {},
   "outputs": [],
   "source": [
    "def plot_vector_distribution(vector_representation, kmeans_labels, scoop_labels, new_data_pca=None):\n",
    "    pca = PCA(n_components=2, random_state=0)\n",
    "    pca_result = pca.fit_transform(vector_representation)\n",
    "\n",
    "    # label_ = ['inscoop', 'outscoop'] if len(np.unique(scoop_labels) == 2) else ['inscoop']\n",
    "\n",
    "    scoop_labels[scoop_labels == 1] = 2\n",
    "    scoop_labels[scoop_labels == -1] = 3\n",
    "\n",
    "    df_pca = pd.DataFrame(pca_result, columns=['Dimension 1', 'Dimension 2'])\n",
    "    df_pca['Scoop Label'] = scoop_labels\n",
    "\n",
    "    cluster_palette = sns.color_palette('tab10', n_colors=2)\n",
    "    # print(len(np.unique(scoop_labels)), np.unique(scoop_labels), scoop_labels)\n",
    "    plt.figure(figsize=(8, 6))\n",
    "    plot = sns.scatterplot(x='Dimension 1', y='Dimension 2', hue='Scoop Label', data=df_pca, palette=cluster_palette)\n",
    "    # handles, labels = plot.get_legend_handles_labels()\n",
    "    # plot.legend(handles, label_)\n",
    "    plot.set(xlabel = None)\n",
    "    plot.set(ylabel = None)\n",
    "    plot.legend([],[], frameon=False)\n",
    "    \n",
    "    # Add centroids to the plot\n",
    "    centroids = []\n",
    "    for label in np.unique(kmeans_labels):\n",
    "        centroid = np.mean(pca_result[kmeans_labels == label], axis=0)\n",
    "        centroids.append(centroid)\n",
    "    centroids = np.array(centroids)\n",
    "    plt.scatter(centroids[:, 0], centroids[:, 1], marker='^', c='red', s=50, label='Centroids')\n",
    "    \n",
    "    if new_data_pca is not None:\n",
    "        plt.scatter(new_data_pca[:, 0], new_data_pca[:, 1], c='green')\n",
    "    # Show position of new PCA data\n",
    "    \n",
    "    plt.title('PCA Latent Representation with Centroids')\n",
    "    plt.show()"
   ]
  },
  {
   "cell_type": "code",
   "execution_count": null,
   "metadata": {},
   "outputs": [],
   "source": [
    "def plot_scoop_distribution_scoop(pca_data, scoop_labels):\n",
    "    "
   ]
  },
  {
   "cell_type": "code",
   "execution_count": 6,
   "metadata": {},
   "outputs": [],
   "source": [
    "# Load pre-trained IndoBERT tokenizer and model\n",
    "tokenizer = BertTokenizer.from_pretrained('bert-base-multilingual-cased')\n",
    "model = BertClassifier(12)\n",
    "model.load_state_dict(torch.load('model/finetuned_model_sinta_translated.pt'))\n",
    "\n",
    "jurnal_id = 3\n",
    "jurnal_type = 'finetuned_sinta_translated'\n",
    "\n",
    "kmeans_model,  outscoop_threshold, pca_data, X_bert, df_res = load_data(jurnal_id, jurnal_type)\n",
    "predictor = ScoopPredictor(tokenizer, model, kmeans_model,  outscoop_threshold, pca_data, X_bert)\n",
    "\n",
    "inScoop_df = df_res[df_res['Label'] == 1]\n",
    "outScoop_df = df_res[df_res['Label'] == -1]\n",
    "\n",
    "# Mendapatkan koordinat pusat cluster\n",
    "centroid = kmeans_model.cluster_centers_\n",
    "\n",
    "# Menghitung jarak antara setiap titik data dengan centroid\n",
    "jarak_ke_centroid = np.sqrt(np.sum((pca_data - centroid)**2, axis=1))\n",
    "\n",
    "# Menentukan label untuk scoop dan outscoop\n",
    "scoop_labels = np.ones(len(pca_data))\n",
    "scoop_labels[jarak_ke_centroid > outscoop_threshold] = -1\n",
    "\n",
    "inScoop_df = df_res[df_res['Label'] == 1]\n",
    "outScoop_df = df_res[df_res['Label'] == -1]\n",
    "\n",
    "# plot_vector_distribution(pca_data, kmeans_model.labels_, scoop_labels)"
   ]
  },
  {
   "cell_type": "code",
   "execution_count": 7,
   "metadata": {},
   "outputs": [
    {
     "data": {
      "image/png": "[encoded data removed]",
      "text/plain": [
       "<Figure size 800x600 with 1 Axes>"
      ]
     },
     "metadata": {},
     "output_type": "display_data"
    }
   ],
   "source": [
    "injected_data = pd.read_csv('data/data_sinta_cleaned.csv')\n",
    "injected_data.dropna(inplace=True)\n",
    "\n",
    "complement_journal = {\n",
    "    1 : [4, 5, 7, 8, 9, 10, 11, 12],\n",
    "    2 : [4, 5, 7, 8, 9, 10, 11, 12],\n",
    "    3 : [4, 5, 7, 8, 9, 10, 11, 12],\n",
    "    4 : [1, 2, 3, 6, 8, 10, 11],\n",
    "    5 : [1, 2, 3, 6, 8, 10, 11],\n",
    "    6 : [4, 5, 7, 8, 9, 10, 11, 12],\n",
    "    7 : [4, 5, 8, 9, 10, 12],\n",
    "    8 : [1, 2, 3, 4, 5, 6, 7, 9, 11, 12],\n",
    "    9 : [1, 2, 3, 6, 8, 10, 11],\n",
    "    10 : [1, 2, 3, 4, 5, 6, 7, 9, 11, 12],\n",
    "    11 : [1, 2, 3, 4, 5, 6, 8, 9, 10, 12],\n",
    "    12 : [1, 2, 3, 6, 8, 10, 11]\n",
    "}   \n",
    "\n",
    "new_data_pca = []\n",
    "scoop_predictions = []\n",
    "distances = []\n",
    "test_data = injected_data[injected_data.jid.isin(complement_journal[jurnal_id])].sample(int(len(df_res) * 0.1))\n",
    "\n",
    "for data in test_data.iloc:\n",
    "    test_title = data.title\n",
    "    test_abs = data.desc\n",
    "\n",
    "    scoop_prediction, data_pca, distance = predictor.predict_scoop(test_title, test_abs)\n",
    "    data_pca = np.squeeze(data_pca)\n",
    "\n",
    "    scoop_predictions.append(scoop_prediction)\n",
    "    distances.append(distance)\n",
    "    new_data_pca.append(data_pca)\n",
    "\n",
    "# scoop_prediction, new_data_pca, distance = predictor.predict_scoop(test_title, test_abs)\n",
    "plot_vector_distribution(pca_data, kmeans_model.labels_, scoop_labels, np.array(new_data_pca))"
   ]
  },
  {
   "cell_type": "code",
   "execution_count": 8,
   "metadata": {},
   "outputs": [
    {
     "data": {
      "text/plain": [
       "('INTERNATIONAL JOURNAL OF ELEMENTARY EDUCATION',\n",
       " array(['JURNAL KESEHATAN ANDALAS', 'JURNAL KESEHATAN MASYARAKAT',\n",
       "        'JURNAL AKUNTANSI DAN KEUANGAN',\n",
       "        'GADJAH MADA INTERNATIONAL JOURNAL OF BUSINESS',\n",
       "        'E-JOURNAL OF CULTURAL STUDIES', 'JURNAL BISNIS DAN AKUNTANSI',\n",
       "        'E-JURNAL AKUNTANSI'], dtype=object))"
      ]
     },
     "execution_count": 8,
     "metadata": {},
     "output_type": "execute_result"
    }
   ],
   "source": [
    "injected_data[injected_data.jid == jurnal_id].journal.sample().values[0], test_data.journal.unique()"
   ]
  },
  {
   "cell_type": "code",
   "execution_count": 9,
   "metadata": {},
   "outputs": [
    {
     "data": {
      "text/plain": [
       "'15 outscoop out of 45 injected data'"
      ]
     },
     "execution_count": 9,
     "metadata": {},
     "output_type": "execute_result"
    }
   ],
   "source": [
    "sum_outscoop_data = np.sum([1 for predict in scoop_predictions if predict == 'out scoop'])\n",
    "f'{sum_outscoop_data} outscoop out of {len(scoop_predictions)} injected data'"
   ]
  }
 ],
 "metadata": {
  "kernelspec": {
   "display_name": "Python 3",
   "language": "python",
   "name": "python3"
  },
  "language_info": {
   "codemirror_mode": {
    "name": "ipython",
    "version": 3
   },
   "file_extension": ".py",
   "mimetype": "text/x-python",
   "name": "python",
   "nbconvert_exporter": "python",
   "pygments_lexer": "ipython3",
   "version": "3.9.2"
  }
 },
 "nbformat": 4,
 "nbformat_minor": 2
}
