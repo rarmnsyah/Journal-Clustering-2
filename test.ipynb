{
 "cells": [
  {
   "cell_type": "code",
   "execution_count": 1,
   "metadata": {},
   "outputs": [
    {
     "ename": "ModuleNotFoundError",
     "evalue": "No module named 'pandas'",
     "output_type": "error",
     "traceback": [
      "\u001b[1;31m---------------------------------------------------------------------------\u001b[0m",
      "\u001b[1;31mModuleNotFoundError\u001b[0m                       Traceback (most recent call last)",
      "Cell \u001b[1;32mIn[1], line 1\u001b[0m\n\u001b[1;32m----> 1\u001b[0m \u001b[38;5;28;01mimport\u001b[39;00m \u001b[38;5;21;01mpandas\u001b[39;00m \u001b[38;5;28;01mas\u001b[39;00m \u001b[38;5;21;01mpd\u001b[39;00m\n\u001b[0;32m      3\u001b[0m \u001b[38;5;28;01mfrom\u001b[39;00m \u001b[38;5;21;01mPreprocessing\u001b[39;00m \u001b[38;5;28;01mimport\u001b[39;00m preprocess_text\n",
      "\u001b[1;31mModuleNotFoundError\u001b[0m: No module named 'pandas'"
     ]
    }
   ],
   "source": [
    "import pandas as pd\n",
    "\n",
    "from Preprocessing import preprocess_text\n"
   ]
  },
  {
   "cell_type": "code",
   "execution_count": 2,
   "metadata": {},
   "outputs": [],
   "source": [
    "df = pd.read_csv('data/data_sinta_cleaned.csv')"
   ]
  },
  {
   "cell_type": "code",
   "execution_count": 4,
   "metadata": {},
   "outputs": [
    {
     "data": {
      "text/html": [
       "<div>\n",
       "<style scoped>\n",
       "    .dataframe tbody tr th:only-of-type {\n",
       "        vertical-align: middle;\n",
       "    }\n",
       "\n",
       "    .dataframe tbody tr th {\n",
       "        vertical-align: top;\n",
       "    }\n",
       "\n",
       "    .dataframe thead th {\n",
       "        text-align: right;\n",
       "    }\n",
       "</style>\n",
       "<table border=\"1\" class=\"dataframe\">\n",
       "  <thead>\n",
       "    <tr style=\"text-align: right;\">\n",
       "      <th></th>\n",
       "      <th>jid</th>\n",
       "      <th>desc</th>\n",
       "      <th>title</th>\n",
       "      <th>date</th>\n",
       "      <th>journal</th>\n",
       "      <th>data_cleaned</th>\n",
       "      <th>word</th>\n",
       "      <th>jid_umum</th>\n",
       "    </tr>\n",
       "  </thead>\n",
       "  <tbody>\n",
       "    <tr>\n",
       "      <th>5129</th>\n",
       "      <td>8</td>\n",
       "      <td>Smoking in adolescents is more prone to experi...</td>\n",
       "      <td>GAMBARAN FAKTOR KEGAGALAN BERHEMTI MEROKOK PAD...</td>\n",
       "      <td>2020-06-30</td>\n",
       "      <td>JURNAL KESEHATAN MASYARAKAT</td>\n",
       "      <td>gambaran faktor kegagalan berhemti merokok pad...</td>\n",
       "      <td>309</td>\n",
       "      <td>8</td>\n",
       "    </tr>\n",
       "    <tr>\n",
       "      <th>1713</th>\n",
       "      <td>2</td>\n",
       "      <td>Dalam upaya penguasaan literasi matematis, per...</td>\n",
       "      <td>Pengembangan Soal Matematika Bermuatan HOTS Se...</td>\n",
       "      <td>2021-01-05</td>\n",
       "      <td>JURNAL CENDEKIA : JURNAL PENDIDIKAN MATEMATIKA</td>\n",
       "      <td>pengembangan soal matematika bermuatan hots se...</td>\n",
       "      <td>206</td>\n",
       "      <td>2</td>\n",
       "    </tr>\n",
       "    <tr>\n",
       "      <th>1908</th>\n",
       "      <td>2</td>\n",
       "      <td>Penelitian ini dilatarbelakangi oleh kesulitan...</td>\n",
       "      <td>Analisis Kesalahan Siswa Berdasarkan Objek Mat...</td>\n",
       "      <td>2021-08-28</td>\n",
       "      <td>JURNAL CENDEKIA : JURNAL PENDIDIKAN MATEMATIKA</td>\n",
       "      <td>analisis kesalahan siswa berdasarkan objek mat...</td>\n",
       "      <td>147</td>\n",
       "      <td>2</td>\n",
       "    </tr>\n",
       "    <tr>\n",
       "      <th>6328</th>\n",
       "      <td>10</td>\n",
       "      <td>AbstrakBeberapa jenis gangguan jiwa seperti di...</td>\n",
       "      <td>Gambaran Pola Gangguan Jiwa pada Pelaku Tindak...</td>\n",
       "      <td>2015-05-01</td>\n",
       "      <td>JURNAL KESEHATAN ANDALAS</td>\n",
       "      <td>some specific types of mental disorders announ...</td>\n",
       "      <td>181</td>\n",
       "      <td>10</td>\n",
       "    </tr>\n",
       "    <tr>\n",
       "      <th>3504</th>\n",
       "      <td>4</td>\n",
       "      <td>This study aims to analyze the implementation ...</td>\n",
       "      <td>THE IMPLEMENTATION OF EXCHANGE OF INFORMATION ...</td>\n",
       "      <td>2020-12-31</td>\n",
       "      <td>JURNAL BISNIS DAN AKUNTANSI</td>\n",
       "      <td>the implementation of exchange of information ...</td>\n",
       "      <td>177</td>\n",
       "      <td>4</td>\n",
       "    </tr>\n",
       "  </tbody>\n",
       "</table>\n",
       "</div>"
      ],
      "text/plain": [
       "      jid                                               desc  \\\n",
       "5129    8  Smoking in adolescents is more prone to experi...   \n",
       "1713    2  Dalam upaya penguasaan literasi matematis, per...   \n",
       "1908    2  Penelitian ini dilatarbelakangi oleh kesulitan...   \n",
       "6328   10  AbstrakBeberapa jenis gangguan jiwa seperti di...   \n",
       "3504    4  This study aims to analyze the implementation ...   \n",
       "\n",
       "                                                  title        date  \\\n",
       "5129  GAMBARAN FAKTOR KEGAGALAN BERHEMTI MEROKOK PAD...  2020-06-30   \n",
       "1713  Pengembangan Soal Matematika Bermuatan HOTS Se...  2021-01-05   \n",
       "1908  Analisis Kesalahan Siswa Berdasarkan Objek Mat...  2021-08-28   \n",
       "6328  Gambaran Pola Gangguan Jiwa pada Pelaku Tindak...  2015-05-01   \n",
       "3504  THE IMPLEMENTATION OF EXCHANGE OF INFORMATION ...  2020-12-31   \n",
       "\n",
       "                                             journal  \\\n",
       "5129                     JURNAL KESEHATAN MASYARAKAT   \n",
       "1713  JURNAL CENDEKIA : JURNAL PENDIDIKAN MATEMATIKA   \n",
       "1908  JURNAL CENDEKIA : JURNAL PENDIDIKAN MATEMATIKA   \n",
       "6328                        JURNAL KESEHATAN ANDALAS   \n",
       "3504                     JURNAL BISNIS DAN AKUNTANSI   \n",
       "\n",
       "                                           data_cleaned  word  jid_umum  \n",
       "5129  gambaran faktor kegagalan berhemti merokok pad...   309         8  \n",
       "1713  pengembangan soal matematika bermuatan hots se...   206         2  \n",
       "1908  analisis kesalahan siswa berdasarkan objek mat...   147         2  \n",
       "6328  some specific types of mental disorders announ...   181        10  \n",
       "3504  the implementation of exchange of information ...   177         4  "
      ]
     },
     "execution_count": 4,
     "metadata": {},
     "output_type": "execute_result"
    }
   ],
   "source": [
    "sampling = df.sample(5)\n",
    "sampling"
   ]
  },
  {
   "cell_type": "code",
   "execution_count": 5,
   "metadata": {},
   "outputs": [],
   "source": [
    "sampling.to_csv('data_sinta_awal_sample_5.csv')"
   ]
  }
 ],
 "metadata": {
  "kernelspec": {
   "display_name": ".venv",
   "language": "python",
   "name": "python3"
  },
  "language_info": {
   "codemirror_mode": {
    "name": "ipython",
    "version": 3
   },
   "file_extension": ".py",
   "mimetype": "text/x-python",
   "name": "python",
   "nbconvert_exporter": "python",
   "pygments_lexer": "ipython3",
   "version": "3.9.2rc1"
  }
 },
 "nbformat": 4,
 "nbformat_minor": 2
}
