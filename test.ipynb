{
 "cells": [
  {
   "cell_type": "code",
   "execution_count": 1,
   "metadata": {},
   "outputs": [],
   "source": [
    "import pandas as pd\n",
    "\n",
    "from Preprocessing import preprocess_text\n"
   ]
  },
  {
   "cell_type": "code",
   "execution_count": 2,
   "metadata": {},
   "outputs": [],
   "source": [
    "df = pd.read_csv('data/data_sinta_cleaned.csv')"
   ]
  },
  {
   "cell_type": "code",
   "execution_count": 3,
   "metadata": {},
   "outputs": [
    {
     "data": {
      "text/html": [
       "<div>\n",
       "<style scoped>\n",
       "    .dataframe tbody tr th:only-of-type {\n",
       "        vertical-align: middle;\n",
       "    }\n",
       "\n",
       "    .dataframe tbody tr th {\n",
       "        vertical-align: top;\n",
       "    }\n",
       "\n",
       "    .dataframe thead th {\n",
       "        text-align: right;\n",
       "    }\n",
       "</style>\n",
       "<table border=\"1\" class=\"dataframe\">\n",
       "  <thead>\n",
       "    <tr style=\"text-align: right;\">\n",
       "      <th></th>\n",
       "      <th>jid</th>\n",
       "      <th>desc</th>\n",
       "      <th>title</th>\n",
       "      <th>date</th>\n",
       "      <th>journal</th>\n",
       "      <th>data_cleaned</th>\n",
       "      <th>word</th>\n",
       "      <th>jid_umum</th>\n",
       "    </tr>\n",
       "  </thead>\n",
       "  <tbody>\n",
       "    <tr>\n",
       "      <th>2443</th>\n",
       "      <td>2</td>\n",
       "      <td>Program Merdeka Belajar Kampus Merdeka (MBKM) ...</td>\n",
       "      <td>Desain Kurikulum dan Konversi Hasil Kegiatan M...</td>\n",
       "      <td>2023-07-21</td>\n",
       "      <td>JURNAL CENDEKIA : JURNAL PENDIDIKAN MATEMATIKA</td>\n",
       "      <td>desain kurikulum dan konversi hasil kegiatan m...</td>\n",
       "      <td>197</td>\n",
       "      <td>2</td>\n",
       "    </tr>\n",
       "    <tr>\n",
       "      <th>6654</th>\n",
       "      <td>10</td>\n",
       "      <td>Pendahuluan: Neurofibroma adalah tumor saraf y...</td>\n",
       "      <td>Neurofibroma Telinga Tengah dengan Otitis Medi...</td>\n",
       "      <td>2018-07-29</td>\n",
       "      <td>JURNAL KESEHATAN ANDALAS</td>\n",
       "      <td>neurofibroma telinga tengah dengan otitis medi...</td>\n",
       "      <td>106</td>\n",
       "      <td>10</td>\n",
       "    </tr>\n",
       "    <tr>\n",
       "      <th>1882</th>\n",
       "      <td>2</td>\n",
       "      <td>Penelitian ini bertujuan untuk mengetahui apa ...</td>\n",
       "      <td>Problematika Implementasi Pembelajaran Matemat...</td>\n",
       "      <td>2021-08-01</td>\n",
       "      <td>JURNAL CENDEKIA : JURNAL PENDIDIKAN MATEMATIKA</td>\n",
       "      <td>problematika implementasi pembelajaran matemat...</td>\n",
       "      <td>173</td>\n",
       "      <td>2</td>\n",
       "    </tr>\n",
       "    <tr>\n",
       "      <th>7002</th>\n",
       "      <td>10</td>\n",
       "      <td>Latar belakang: Laringomalasia (LM) merupakan ...</td>\n",
       "      <td>Diagnosis dan Penatalaksanaan Laringomalasia</td>\n",
       "      <td>2018-07-29</td>\n",
       "      <td>JURNAL KESEHATAN ANDALAS</td>\n",
       "      <td>diagnosis dan penatalaksanaan laringomalasia l...</td>\n",
       "      <td>155</td>\n",
       "      <td>10</td>\n",
       "    </tr>\n",
       "    <tr>\n",
       "      <th>7650</th>\n",
       "      <td>12</td>\n",
       "      <td>The purpose of this study was to examine earni...</td>\n",
       "      <td>Manajemen Laba Dan Pengaruhnya Pada Kinerja Pe...</td>\n",
       "      <td>2015-08-31</td>\n",
       "      <td>E-JURNAL AKUNTANSI</td>\n",
       "      <td>manajemen laba dan pengaruhnya pada kinerja pe...</td>\n",
       "      <td>186</td>\n",
       "      <td>12</td>\n",
       "    </tr>\n",
       "  </tbody>\n",
       "</table>\n",
       "</div>"
      ],
      "text/plain": [
       "      jid                                               desc  \\\n",
       "2443    2  Program Merdeka Belajar Kampus Merdeka (MBKM) ...   \n",
       "6654   10  Pendahuluan: Neurofibroma adalah tumor saraf y...   \n",
       "1882    2  Penelitian ini bertujuan untuk mengetahui apa ...   \n",
       "7002   10  Latar belakang: Laringomalasia (LM) merupakan ...   \n",
       "7650   12  The purpose of this study was to examine earni...   \n",
       "\n",
       "                                                  title        date  \\\n",
       "2443  Desain Kurikulum dan Konversi Hasil Kegiatan M...  2023-07-21   \n",
       "6654  Neurofibroma Telinga Tengah dengan Otitis Medi...  2018-07-29   \n",
       "1882  Problematika Implementasi Pembelajaran Matemat...  2021-08-01   \n",
       "7002      Diagnosis dan Penatalaksanaan Laringomalasia   2018-07-29   \n",
       "7650  Manajemen Laba Dan Pengaruhnya Pada Kinerja Pe...  2015-08-31   \n",
       "\n",
       "                                             journal  \\\n",
       "2443  JURNAL CENDEKIA : JURNAL PENDIDIKAN MATEMATIKA   \n",
       "6654                        JURNAL KESEHATAN ANDALAS   \n",
       "1882  JURNAL CENDEKIA : JURNAL PENDIDIKAN MATEMATIKA   \n",
       "7002                        JURNAL KESEHATAN ANDALAS   \n",
       "7650                              E-JURNAL AKUNTANSI   \n",
       "\n",
       "                                           data_cleaned  word  jid_umum  \n",
       "2443  desain kurikulum dan konversi hasil kegiatan m...   197         2  \n",
       "6654  neurofibroma telinga tengah dengan otitis medi...   106        10  \n",
       "1882  problematika implementasi pembelajaran matemat...   173         2  \n",
       "7002  diagnosis dan penatalaksanaan laringomalasia l...   155        10  \n",
       "7650  manajemen laba dan pengaruhnya pada kinerja pe...   186        12  "
      ]
     },
     "execution_count": 3,
     "metadata": {},
     "output_type": "execute_result"
    }
   ],
   "source": [
    "sampling = df.sample(5)\n",
    "sampling"
   ]
  },
  {
   "cell_type": "code",
   "execution_count": 5,
   "metadata": {},
   "outputs": [],
   "source": [
    "sampling.to_csv('data_sinta_awal_sample_5.csv')"
   ]
  }
 ],
 "metadata": {
  "kernelspec": {
   "display_name": ".venv",
   "language": "python",
   "name": "python3"
  },
  "language_info": {
   "codemirror_mode": {
    "name": "ipython",
    "version": 3
   },
   "file_extension": ".py",
   "mimetype": "text/x-python",
   "name": "python",
   "nbconvert_exporter": "python",
   "pygments_lexer": "ipython3",
   "version": "3.9.2"
  }
 },
 "nbformat": 4,
 "nbformat_minor": 2
}
