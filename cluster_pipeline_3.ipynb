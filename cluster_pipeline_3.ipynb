{
 "cells": [
  {
   "cell_type": "code",
   "execution_count": 26,
   "metadata": {},
   "outputs": [],
   "source": [
    "import torch\n",
    "import pandas as pd\n",
    "import matplotlib.pyplot as plt\n",
    "import numpy as np\n",
    "\n",
    "from sklearn.cluster import KMeans\n",
    "from sklearn.decomposition import PCA\n",
    "from sklearn.preprocessing import LabelEncoder\n",
    "\n",
    "from check_lang import lang_checker_langdetect\n",
    "from functions import *\n",
    "from Preprocessing import *\n",
    "\n",
    "# pd.options.mode.chained_assignment = None  # default='warn'"
   ]
  },
  {
   "cell_type": "code",
   "execution_count": 2,
   "metadata": {},
   "outputs": [
    {
     "data": {
      "text/plain": [
       "device(type='cuda')"
      ]
     },
     "execution_count": 2,
     "metadata": {},
     "output_type": "execute_result"
    }
   ],
   "source": [
    "device = torch.device('cuda' if torch.cuda.is_available() else 'cpu')\n",
    "device"
   ]
  },
  {
   "cell_type": "code",
   "execution_count": 3,
   "metadata": {},
   "outputs": [
    {
     "data": {
      "text/html": [
       "<div>\n",
       "<style scoped>\n",
       "    .dataframe tbody tr th:only-of-type {\n",
       "        vertical-align: middle;\n",
       "    }\n",
       "\n",
       "    .dataframe tbody tr th {\n",
       "        vertical-align: top;\n",
       "    }\n",
       "\n",
       "    .dataframe thead th {\n",
       "        text-align: right;\n",
       "    }\n",
       "</style>\n",
       "<table border=\"1\" class=\"dataframe\">\n",
       "  <thead>\n",
       "    <tr style=\"text-align: right;\">\n",
       "      <th></th>\n",
       "      <th>jid</th>\n",
       "      <th>eissn</th>\n",
       "      <th>desc</th>\n",
       "      <th>title</th>\n",
       "      <th>date</th>\n",
       "    </tr>\n",
       "  </thead>\n",
       "  <tbody>\n",
       "    <tr>\n",
       "      <th>0</th>\n",
       "      <td>10000</td>\n",
       "      <td>25803786</td>\n",
       "      <td>Teknologi reproduksi aseksual anemon merupakan...</td>\n",
       "      <td>alih teknologi produksi benih anemon laut  sec...</td>\n",
       "      <td>2017-04-28</td>\n",
       "    </tr>\n",
       "    <tr>\n",
       "      <th>1</th>\n",
       "      <td>10000</td>\n",
       "      <td>25803786</td>\n",
       "      <td>Kegiatan ini bertujuan untuk meningkatkan kual...</td>\n",
       "      <td>peningkatan kualitas produk olahan sambusaq tu...</td>\n",
       "      <td>2017-04-28</td>\n",
       "    </tr>\n",
       "    <tr>\n",
       "      <th>2</th>\n",
       "      <td>10000</td>\n",
       "      <td>25803786</td>\n",
       "      <td>Kegiatan Pengabdian kepada Masyarakat ini dila...</td>\n",
       "      <td>model pemanfaatan urine sapi sebagai pupuk org...</td>\n",
       "      <td>2017-04-28</td>\n",
       "    </tr>\n",
       "    <tr>\n",
       "      <th>3</th>\n",
       "      <td>10000</td>\n",
       "      <td>25803786</td>\n",
       "      <td>Sulawesi Selatan khususnya Kabupaten Enrekang ...</td>\n",
       "      <td>penerapan teknologi tepat guna pada pengolahan...</td>\n",
       "      <td>2017-04-28</td>\n",
       "    </tr>\n",
       "    <tr>\n",
       "      <th>4</th>\n",
       "      <td>10000</td>\n",
       "      <td>25803786</td>\n",
       "      <td>Kabupaten Sidrap menembus angka 94 kasus HIV-A...</td>\n",
       "      <td>penyuluhan pencegahan dan penularan hiv-aids p...</td>\n",
       "      <td>2017-04-28</td>\n",
       "    </tr>\n",
       "    <tr>\n",
       "      <th>...</th>\n",
       "      <td>...</td>\n",
       "      <td>...</td>\n",
       "      <td>...</td>\n",
       "      <td>...</td>\n",
       "      <td>...</td>\n",
       "    </tr>\n",
       "    <tr>\n",
       "      <th>348026</th>\n",
       "      <td>9996</td>\n",
       "      <td>26152835</td>\n",
       "      <td>Feline panleukopenia is an infectious disease ...</td>\n",
       "      <td>feline panleucopenia in bengal cats at hasanud...</td>\n",
       "      <td>2023-11-08</td>\n",
       "    </tr>\n",
       "    <tr>\n",
       "      <th>348027</th>\n",
       "      <td>9996</td>\n",
       "      <td>26152835</td>\n",
       "      <td>Turtles are reptiles that are very easy to rec...</td>\n",
       "      <td>a case handling bladder stone on the turtle (c...</td>\n",
       "      <td>2024-03-10</td>\n",
       "    </tr>\n",
       "    <tr>\n",
       "      <th>348028</th>\n",
       "      <td>9996</td>\n",
       "      <td>26152835</td>\n",
       "      <td>The objective of this study was to see whether...</td>\n",
       "      <td>bentonite addition in quail diet (coturnix-cot...</td>\n",
       "      <td>2024-02-28</td>\n",
       "    </tr>\n",
       "    <tr>\n",
       "      <th>348029</th>\n",
       "      <td>9996</td>\n",
       "      <td>26152835</td>\n",
       "      <td>This study aims to determine the histological ...</td>\n",
       "      <td>comparative histology of the skin between sumb...</td>\n",
       "      <td>2024-04-29</td>\n",
       "    </tr>\n",
       "    <tr>\n",
       "      <th>348030</th>\n",
       "      <td>9996</td>\n",
       "      <td>26152835</td>\n",
       "      <td>The practice of wild animal captivity serves t...</td>\n",
       "      <td>assessment of spotted deer welfare utilizing t...</td>\n",
       "      <td>2024-06-13</td>\n",
       "    </tr>\n",
       "  </tbody>\n",
       "</table>\n",
       "<p>314329 rows × 5 columns</p>\n",
       "</div>"
      ],
      "text/plain": [
       "          jid     eissn                                               desc  \\\n",
       "0       10000  25803786  Teknologi reproduksi aseksual anemon merupakan...   \n",
       "1       10000  25803786  Kegiatan ini bertujuan untuk meningkatkan kual...   \n",
       "2       10000  25803786  Kegiatan Pengabdian kepada Masyarakat ini dila...   \n",
       "3       10000  25803786  Sulawesi Selatan khususnya Kabupaten Enrekang ...   \n",
       "4       10000  25803786  Kabupaten Sidrap menembus angka 94 kasus HIV-A...   \n",
       "...       ...       ...                                                ...   \n",
       "348026   9996  26152835  Feline panleukopenia is an infectious disease ...   \n",
       "348027   9996  26152835  Turtles are reptiles that are very easy to rec...   \n",
       "348028   9996  26152835  The objective of this study was to see whether...   \n",
       "348029   9996  26152835  This study aims to determine the histological ...   \n",
       "348030   9996  26152835  The practice of wild animal captivity serves t...   \n",
       "\n",
       "                                                    title        date  \n",
       "0       alih teknologi produksi benih anemon laut  sec...  2017-04-28  \n",
       "1       peningkatan kualitas produk olahan sambusaq tu...  2017-04-28  \n",
       "2       model pemanfaatan urine sapi sebagai pupuk org...  2017-04-28  \n",
       "3       penerapan teknologi tepat guna pada pengolahan...  2017-04-28  \n",
       "4       penyuluhan pencegahan dan penularan hiv-aids p...  2017-04-28  \n",
       "...                                                   ...         ...  \n",
       "348026  feline panleucopenia in bengal cats at hasanud...  2023-11-08  \n",
       "348027  a case handling bladder stone on the turtle (c...  2024-03-10  \n",
       "348028  bentonite addition in quail diet (coturnix-cot...  2024-02-28  \n",
       "348029  comparative histology of the skin between sumb...  2024-04-29  \n",
       "348030  assessment of spotted deer welfare utilizing t...  2024-06-13  \n",
       "\n",
       "[314329 rows x 5 columns]"
      ]
     },
     "execution_count": 3,
     "metadata": {},
     "output_type": "execute_result"
    }
   ],
   "source": [
    "df = pd.read_csv('data/data_sinta_raw_s4_full.csv')\n",
    "df.dropna(inplace=True)\n",
    "df.drop_duplicates(inplace=True)\n",
    "\n",
    "df.title = df.title.apply(lambda x : x.lower())\n",
    "\n",
    "df"
   ]
  },
  {
   "cell_type": "code",
   "execution_count": 4,
   "metadata": {},
   "outputs": [
    {
     "data": {
      "text/plain": [
       "'2579308X'"
      ]
     },
     "execution_count": 4,
     "metadata": {},
     "output_type": "execute_result"
    }
   ],
   "source": [
    "selected_eissn = df.eissn.sample().values[-1]\n",
    "selected_eissn"
   ]
  },
  {
   "cell_type": "code",
   "execution_count": 5,
   "metadata": {},
   "outputs": [
    {
     "data": {
      "text/html": [
       "<div>\n",
       "<style scoped>\n",
       "    .dataframe tbody tr th:only-of-type {\n",
       "        vertical-align: middle;\n",
       "    }\n",
       "\n",
       "    .dataframe tbody tr th {\n",
       "        vertical-align: top;\n",
       "    }\n",
       "\n",
       "    .dataframe thead th {\n",
       "        text-align: right;\n",
       "    }\n",
       "</style>\n",
       "<table border=\"1\" class=\"dataframe\">\n",
       "  <thead>\n",
       "    <tr style=\"text-align: right;\">\n",
       "      <th></th>\n",
       "      <th>jid</th>\n",
       "      <th>eissn</th>\n",
       "      <th>desc</th>\n",
       "      <th>title</th>\n",
       "      <th>date</th>\n",
       "    </tr>\n",
       "  </thead>\n",
       "  <tbody>\n",
       "    <tr>\n",
       "      <th>3860</th>\n",
       "      <td>1036</td>\n",
       "      <td>2597999X</td>\n",
       "      <td>Abstract: Trauma can be defined as a physical ...</td>\n",
       "      <td>penatalaksanaan cairan perioperatif pada kasus...</td>\n",
       "      <td>2013-01-31</td>\n",
       "    </tr>\n",
       "    <tr>\n",
       "      <th>3861</th>\n",
       "      <td>1036</td>\n",
       "      <td>2597999X</td>\n",
       "      <td>Abstract: Toxoplasmosis in pregnancy causes th...</td>\n",
       "      <td>toksoplasmosis dalam kehamilan</td>\n",
       "      <td>2013-01-31</td>\n",
       "    </tr>\n",
       "    <tr>\n",
       "      <th>3862</th>\n",
       "      <td>1036</td>\n",
       "      <td>2597999X</td>\n",
       "      <td>Abstrak: Polimorfisme apolipoprotein E berhubu...</td>\n",
       "      <td>association of apo e polymorphism with blood p...</td>\n",
       "      <td>2013-01-31</td>\n",
       "    </tr>\n",
       "    <tr>\n",
       "      <th>3863</th>\n",
       "      <td>1036</td>\n",
       "      <td>2597999X</td>\n",
       "      <td>Abstrak. Perkiraan saat kematian dihitung mela...</td>\n",
       "      <td>effect of chrysomya domination on calculating ...</td>\n",
       "      <td>2013-01-31</td>\n",
       "    </tr>\n",
       "    <tr>\n",
       "      <th>3864</th>\n",
       "      <td>1036</td>\n",
       "      <td>2597999X</td>\n",
       "      <td>Abstrak. Penelitian mengenai suksesi Diptera n...</td>\n",
       "      <td>non-calliphoridae-necrophagous-diptera success...</td>\n",
       "      <td>2013-01-31</td>\n",
       "    </tr>\n",
       "    <tr>\n",
       "      <th>...</th>\n",
       "      <td>...</td>\n",
       "      <td>...</td>\n",
       "      <td>...</td>\n",
       "      <td>...</td>\n",
       "      <td>...</td>\n",
       "    </tr>\n",
       "    <tr>\n",
       "      <th>4364</th>\n",
       "      <td>1036</td>\n",
       "      <td>2597999X</td>\n",
       "      <td>Abstract: Sensorineural hearing disorder is on...</td>\n",
       "      <td>efektivitas implan koklea pada anak</td>\n",
       "      <td>2022-04-30</td>\n",
       "    </tr>\n",
       "    <tr>\n",
       "      <th>4365</th>\n",
       "      <td>1036</td>\n",
       "      <td>2597999X</td>\n",
       "      <td>Abstract:Since the arrival of the COVID-19 vir...</td>\n",
       "      <td>prosedur endoskopi tht-kl di era pandemi covid-19</td>\n",
       "      <td>2022-04-30</td>\n",
       "    </tr>\n",
       "    <tr>\n",
       "      <th>4366</th>\n",
       "      <td>1036</td>\n",
       "      <td>2597999X</td>\n",
       "      <td>ABSTRACT:  Stroke is an acute neurovascular di...</td>\n",
       "      <td>penggunaan transcranial magnetic stimulation p...</td>\n",
       "      <td>2023-12-06</td>\n",
       "    </tr>\n",
       "    <tr>\n",
       "      <th>4367</th>\n",
       "      <td>1036</td>\n",
       "      <td>2597999X</td>\n",
       "      <td>Abstract: Traumatic brain injury is an increas...</td>\n",
       "      <td>gangguan kognitif pasca cedera otak traumatik</td>\n",
       "      <td>2023-12-27</td>\n",
       "    </tr>\n",
       "    <tr>\n",
       "      <th>4368</th>\n",
       "      <td>1036</td>\n",
       "      <td>2597999X</td>\n",
       "      <td>Abstract: Teenagers as a quarter of world popu...</td>\n",
       "      <td>hubungan antara obesitas, perilaku merokok dan...</td>\n",
       "      <td>2023-02-01</td>\n",
       "    </tr>\n",
       "  </tbody>\n",
       "</table>\n",
       "<p>509 rows × 5 columns</p>\n",
       "</div>"
      ],
      "text/plain": [
       "       jid     eissn                                               desc  \\\n",
       "3860  1036  2597999X  Abstract: Trauma can be defined as a physical ...   \n",
       "3861  1036  2597999X  Abstract: Toxoplasmosis in pregnancy causes th...   \n",
       "3862  1036  2597999X  Abstrak: Polimorfisme apolipoprotein E berhubu...   \n",
       "3863  1036  2597999X  Abstrak. Perkiraan saat kematian dihitung mela...   \n",
       "3864  1036  2597999X  Abstrak. Penelitian mengenai suksesi Diptera n...   \n",
       "...    ...       ...                                                ...   \n",
       "4364  1036  2597999X  Abstract: Sensorineural hearing disorder is on...   \n",
       "4365  1036  2597999X  Abstract:Since the arrival of the COVID-19 vir...   \n",
       "4366  1036  2597999X  ABSTRACT:  Stroke is an acute neurovascular di...   \n",
       "4367  1036  2597999X  Abstract: Traumatic brain injury is an increas...   \n",
       "4368  1036  2597999X  Abstract: Teenagers as a quarter of world popu...   \n",
       "\n",
       "                                                  title        date  \n",
       "3860  penatalaksanaan cairan perioperatif pada kasus...  2013-01-31  \n",
       "3861                     toksoplasmosis dalam kehamilan  2013-01-31  \n",
       "3862  association of apo e polymorphism with blood p...  2013-01-31  \n",
       "3863  effect of chrysomya domination on calculating ...  2013-01-31  \n",
       "3864  non-calliphoridae-necrophagous-diptera success...  2013-01-31  \n",
       "...                                                 ...         ...  \n",
       "4364                efektivitas implan koklea pada anak  2022-04-30  \n",
       "4365  prosedur endoskopi tht-kl di era pandemi covid-19  2022-04-30  \n",
       "4366  penggunaan transcranial magnetic stimulation p...  2023-12-06  \n",
       "4367      gangguan kognitif pasca cedera otak traumatik  2023-12-27  \n",
       "4368  hubungan antara obesitas, perilaku merokok dan...  2023-02-01  \n",
       "\n",
       "[509 rows x 5 columns]"
      ]
     },
     "execution_count": 5,
     "metadata": {},
     "output_type": "execute_result"
    }
   ],
   "source": [
    "# eissn = '25812874' 'Jurnal Biomedik : JBM'\n",
    "\n",
    "# selected_journal = df[df.eissn == selected_eissn]\n",
    "selected_journal = df.loc[df.eissn == '2597999X', :]\n",
    "selected_journal"
   ]
  },
  {
   "cell_type": "code",
   "execution_count": 6,
   "metadata": {},
   "outputs": [
    {
     "name": "stderr",
     "output_type": "stream",
     "text": [
      "C:\\Users\\rarmn\\AppData\\Local\\Temp\\ipykernel_5652\\3472491142.py:1: SettingWithCopyWarning: \n",
      "A value is trying to be set on a copy of a slice from a DataFrame.\n",
      "Try using .loc[row_indexer,col_indexer] = value instead\n",
      "\n",
      "See the caveats in the documentation: https://pandas.pydata.org/pandas-docs/stable/user_guide/indexing.html#returning-a-view-versus-a-copy\n",
      "  selected_journal['data_cleaned'] = selected_journal.desc.apply(preprocess_text)\n",
      "C:\\Users\\rarmn\\AppData\\Local\\Temp\\ipykernel_5652\\3472491142.py:2: FutureWarning: Series.__getitem__ treating keys as positions is deprecated. In a future version, integer keys will always be treated as labels (consistent with DataFrame behavior). To access a value by position, use `ser.iloc[pos]`\n",
      "  selected_journal['data_cleaned'] = selected_journal.loc[:, ['title', 'data_cleaned']].apply(lambda x : '{} {}'.format(x[0], x[1]), axis = 1)\n",
      "C:\\Users\\rarmn\\AppData\\Local\\Temp\\ipykernel_5652\\3472491142.py:2: SettingWithCopyWarning: \n",
      "A value is trying to be set on a copy of a slice from a DataFrame.\n",
      "Try using .loc[row_indexer,col_indexer] = value instead\n",
      "\n",
      "See the caveats in the documentation: https://pandas.pydata.org/pandas-docs/stable/user_guide/indexing.html#returning-a-view-versus-a-copy\n",
      "  selected_journal['data_cleaned'] = selected_journal.loc[:, ['title', 'data_cleaned']].apply(lambda x : '{} {}'.format(x[0], x[1]), axis = 1)\n",
      "C:\\Users\\rarmn\\AppData\\Local\\Temp\\ipykernel_5652\\3472491142.py:3: SettingWithCopyWarning: \n",
      "A value is trying to be set on a copy of a slice from a DataFrame.\n",
      "Try using .loc[row_indexer,col_indexer] = value instead\n",
      "\n",
      "See the caveats in the documentation: https://pandas.pydata.org/pandas-docs/stable/user_guide/indexing.html#returning-a-view-versus-a-copy\n",
      "  selected_journal['lang'] = selected_journal.data_cleaned.apply(lang_checker_langdetect)\n"
     ]
    },
    {
     "data": {
      "text/html": [
       "<div>\n",
       "<style scoped>\n",
       "    .dataframe tbody tr th:only-of-type {\n",
       "        vertical-align: middle;\n",
       "    }\n",
       "\n",
       "    .dataframe tbody tr th {\n",
       "        vertical-align: top;\n",
       "    }\n",
       "\n",
       "    .dataframe thead th {\n",
       "        text-align: right;\n",
       "    }\n",
       "</style>\n",
       "<table border=\"1\" class=\"dataframe\">\n",
       "  <thead>\n",
       "    <tr style=\"text-align: right;\">\n",
       "      <th></th>\n",
       "      <th>jid</th>\n",
       "      <th>eissn</th>\n",
       "      <th>desc</th>\n",
       "      <th>title</th>\n",
       "      <th>date</th>\n",
       "      <th>data_cleaned</th>\n",
       "      <th>lang</th>\n",
       "    </tr>\n",
       "  </thead>\n",
       "  <tbody>\n",
       "    <tr>\n",
       "      <th>3860</th>\n",
       "      <td>1036</td>\n",
       "      <td>2597999X</td>\n",
       "      <td>Abstract: Trauma can be defined as a physical ...</td>\n",
       "      <td>penatalaksanaan cairan perioperatif pada kasus...</td>\n",
       "      <td>2013-01-31</td>\n",
       "      <td>penatalaksanaan cairan perioperatif pada kasus...</td>\n",
       "      <td>id</td>\n",
       "    </tr>\n",
       "    <tr>\n",
       "      <th>3861</th>\n",
       "      <td>1036</td>\n",
       "      <td>2597999X</td>\n",
       "      <td>Abstract: Toxoplasmosis in pregnancy causes th...</td>\n",
       "      <td>toksoplasmosis dalam kehamilan</td>\n",
       "      <td>2013-01-31</td>\n",
       "      <td>toksoplasmosis dalam kehamilan  toksoplasmosis...</td>\n",
       "      <td>id</td>\n",
       "    </tr>\n",
       "    <tr>\n",
       "      <th>3862</th>\n",
       "      <td>1036</td>\n",
       "      <td>2597999X</td>\n",
       "      <td>Abstrak: Polimorfisme apolipoprotein E berhubu...</td>\n",
       "      <td>association of apo e polymorphism with blood p...</td>\n",
       "      <td>2013-01-31</td>\n",
       "      <td>association of apo e polymorphism with blood p...</td>\n",
       "      <td>en</td>\n",
       "    </tr>\n",
       "    <tr>\n",
       "      <th>3863</th>\n",
       "      <td>1036</td>\n",
       "      <td>2597999X</td>\n",
       "      <td>Abstrak. Perkiraan saat kematian dihitung mela...</td>\n",
       "      <td>effect of chrysomya domination on calculating ...</td>\n",
       "      <td>2013-01-31</td>\n",
       "      <td>effect of chrysomya domination on calculating ...</td>\n",
       "      <td>en</td>\n",
       "    </tr>\n",
       "    <tr>\n",
       "      <th>3864</th>\n",
       "      <td>1036</td>\n",
       "      <td>2597999X</td>\n",
       "      <td>Abstrak. Penelitian mengenai suksesi Diptera n...</td>\n",
       "      <td>non-calliphoridae-necrophagous-diptera success...</td>\n",
       "      <td>2013-01-31</td>\n",
       "      <td>non-calliphoridae-necrophagous-diptera success...</td>\n",
       "      <td>en</td>\n",
       "    </tr>\n",
       "    <tr>\n",
       "      <th>...</th>\n",
       "      <td>...</td>\n",
       "      <td>...</td>\n",
       "      <td>...</td>\n",
       "      <td>...</td>\n",
       "      <td>...</td>\n",
       "      <td>...</td>\n",
       "      <td>...</td>\n",
       "    </tr>\n",
       "    <tr>\n",
       "      <th>4364</th>\n",
       "      <td>1036</td>\n",
       "      <td>2597999X</td>\n",
       "      <td>Abstract: Sensorineural hearing disorder is on...</td>\n",
       "      <td>efektivitas implan koklea pada anak</td>\n",
       "      <td>2022-04-30</td>\n",
       "      <td>efektivitas implan koklea pada anak  gangguan ...</td>\n",
       "      <td>id</td>\n",
       "    </tr>\n",
       "    <tr>\n",
       "      <th>4365</th>\n",
       "      <td>1036</td>\n",
       "      <td>2597999X</td>\n",
       "      <td>Abstract:Since the arrival of the COVID-19 vir...</td>\n",
       "      <td>prosedur endoskopi tht-kl di era pandemi covid-19</td>\n",
       "      <td>2022-04-30</td>\n",
       "      <td>prosedur endoskopi tht-kl di era pandemi covid...</td>\n",
       "      <td>id</td>\n",
       "    </tr>\n",
       "    <tr>\n",
       "      <th>4366</th>\n",
       "      <td>1036</td>\n",
       "      <td>2597999X</td>\n",
       "      <td>ABSTRACT:  Stroke is an acute neurovascular di...</td>\n",
       "      <td>penggunaan transcranial magnetic stimulation p...</td>\n",
       "      <td>2023-12-06</td>\n",
       "      <td>penggunaan transcranial magnetic stimulation p...</td>\n",
       "      <td>id</td>\n",
       "    </tr>\n",
       "    <tr>\n",
       "      <th>4367</th>\n",
       "      <td>1036</td>\n",
       "      <td>2597999X</td>\n",
       "      <td>Abstract: Traumatic brain injury is an increas...</td>\n",
       "      <td>gangguan kognitif pasca cedera otak traumatik</td>\n",
       "      <td>2023-12-27</td>\n",
       "      <td>gangguan kognitif pasca cedera otak traumatik ...</td>\n",
       "      <td>id</td>\n",
       "    </tr>\n",
       "    <tr>\n",
       "      <th>4368</th>\n",
       "      <td>1036</td>\n",
       "      <td>2597999X</td>\n",
       "      <td>Abstract: Teenagers as a quarter of world popu...</td>\n",
       "      <td>hubungan antara obesitas, perilaku merokok dan...</td>\n",
       "      <td>2023-02-01</td>\n",
       "      <td>hubungan antara obesitas, perilaku merokok dan...</td>\n",
       "      <td>id</td>\n",
       "    </tr>\n",
       "  </tbody>\n",
       "</table>\n",
       "<p>509 rows × 7 columns</p>\n",
       "</div>"
      ],
      "text/plain": [
       "       jid     eissn                                               desc  \\\n",
       "3860  1036  2597999X  Abstract: Trauma can be defined as a physical ...   \n",
       "3861  1036  2597999X  Abstract: Toxoplasmosis in pregnancy causes th...   \n",
       "3862  1036  2597999X  Abstrak: Polimorfisme apolipoprotein E berhubu...   \n",
       "3863  1036  2597999X  Abstrak. Perkiraan saat kematian dihitung mela...   \n",
       "3864  1036  2597999X  Abstrak. Penelitian mengenai suksesi Diptera n...   \n",
       "...    ...       ...                                                ...   \n",
       "4364  1036  2597999X  Abstract: Sensorineural hearing disorder is on...   \n",
       "4365  1036  2597999X  Abstract:Since the arrival of the COVID-19 vir...   \n",
       "4366  1036  2597999X  ABSTRACT:  Stroke is an acute neurovascular di...   \n",
       "4367  1036  2597999X  Abstract: Traumatic brain injury is an increas...   \n",
       "4368  1036  2597999X  Abstract: Teenagers as a quarter of world popu...   \n",
       "\n",
       "                                                  title        date  \\\n",
       "3860  penatalaksanaan cairan perioperatif pada kasus...  2013-01-31   \n",
       "3861                     toksoplasmosis dalam kehamilan  2013-01-31   \n",
       "3862  association of apo e polymorphism with blood p...  2013-01-31   \n",
       "3863  effect of chrysomya domination on calculating ...  2013-01-31   \n",
       "3864  non-calliphoridae-necrophagous-diptera success...  2013-01-31   \n",
       "...                                                 ...         ...   \n",
       "4364                efektivitas implan koklea pada anak  2022-04-30   \n",
       "4365  prosedur endoskopi tht-kl di era pandemi covid-19  2022-04-30   \n",
       "4366  penggunaan transcranial magnetic stimulation p...  2023-12-06   \n",
       "4367      gangguan kognitif pasca cedera otak traumatik  2023-12-27   \n",
       "4368  hubungan antara obesitas, perilaku merokok dan...  2023-02-01   \n",
       "\n",
       "                                           data_cleaned lang  \n",
       "3860  penatalaksanaan cairan perioperatif pada kasus...   id  \n",
       "3861  toksoplasmosis dalam kehamilan  toksoplasmosis...   id  \n",
       "3862  association of apo e polymorphism with blood p...   en  \n",
       "3863  effect of chrysomya domination on calculating ...   en  \n",
       "3864  non-calliphoridae-necrophagous-diptera success...   en  \n",
       "...                                                 ...  ...  \n",
       "4364  efektivitas implan koklea pada anak  gangguan ...   id  \n",
       "4365  prosedur endoskopi tht-kl di era pandemi covid...   id  \n",
       "4366  penggunaan transcranial magnetic stimulation p...   id  \n",
       "4367  gangguan kognitif pasca cedera otak traumatik ...   id  \n",
       "4368  hubungan antara obesitas, perilaku merokok dan...   id  \n",
       "\n",
       "[509 rows x 7 columns]"
      ]
     },
     "execution_count": 6,
     "metadata": {},
     "output_type": "execute_result"
    }
   ],
   "source": [
    "selected_journal['data_cleaned'] = selected_journal.desc.apply(preprocess_text)\n",
    "selected_journal['data_cleaned'] = selected_journal.loc[:, ['title', 'data_cleaned']].apply(lambda x : '{} {}'.format(x[0], x[1]), axis = 1)  \n",
    "selected_journal['lang'] = selected_journal.data_cleaned.apply(lang_checker_langdetect)\n",
    "\n",
    "selected_journal"
   ]
  },
  {
   "cell_type": "code",
   "execution_count": 7,
   "metadata": {},
   "outputs": [
    {
     "name": "stderr",
     "output_type": "stream",
     "text": [
      "C:\\Users\\rarmn\\AppData\\Local\\Temp\\ipykernel_5652\\2972708748.py:2: SettingWithCopyWarning: \n",
      "A value is trying to be set on a copy of a slice from a DataFrame.\n",
      "Try using .loc[row_indexer,col_indexer] = value instead\n",
      "\n",
      "See the caveats in the documentation: https://pandas.pydata.org/pandas-docs/stable/user_guide/indexing.html#returning-a-view-versus-a-copy\n",
      "  selected_journal['label'] = le.fit_transform(selected_journal.eissn)\n"
     ]
    },
    {
     "data": {
      "text/html": [
       "<div>\n",
       "<style scoped>\n",
       "    .dataframe tbody tr th:only-of-type {\n",
       "        vertical-align: middle;\n",
       "    }\n",
       "\n",
       "    .dataframe tbody tr th {\n",
       "        vertical-align: top;\n",
       "    }\n",
       "\n",
       "    .dataframe thead th {\n",
       "        text-align: right;\n",
       "    }\n",
       "</style>\n",
       "<table border=\"1\" class=\"dataframe\">\n",
       "  <thead>\n",
       "    <tr style=\"text-align: right;\">\n",
       "      <th></th>\n",
       "      <th>jid</th>\n",
       "      <th>eissn</th>\n",
       "      <th>desc</th>\n",
       "      <th>title</th>\n",
       "      <th>date</th>\n",
       "      <th>data_cleaned</th>\n",
       "      <th>lang</th>\n",
       "      <th>label</th>\n",
       "    </tr>\n",
       "  </thead>\n",
       "  <tbody>\n",
       "    <tr>\n",
       "      <th>3860</th>\n",
       "      <td>1036</td>\n",
       "      <td>2597999X</td>\n",
       "      <td>Abstract: Trauma can be defined as a physical ...</td>\n",
       "      <td>penatalaksanaan cairan perioperatif pada kasus...</td>\n",
       "      <td>2013-01-31</td>\n",
       "      <td>penatalaksanaan cairan perioperatif pada kasus...</td>\n",
       "      <td>id</td>\n",
       "      <td>0</td>\n",
       "    </tr>\n",
       "    <tr>\n",
       "      <th>3861</th>\n",
       "      <td>1036</td>\n",
       "      <td>2597999X</td>\n",
       "      <td>Abstract: Toxoplasmosis in pregnancy causes th...</td>\n",
       "      <td>toksoplasmosis dalam kehamilan</td>\n",
       "      <td>2013-01-31</td>\n",
       "      <td>toksoplasmosis dalam kehamilan  toksoplasmosis...</td>\n",
       "      <td>id</td>\n",
       "      <td>0</td>\n",
       "    </tr>\n",
       "    <tr>\n",
       "      <th>3862</th>\n",
       "      <td>1036</td>\n",
       "      <td>2597999X</td>\n",
       "      <td>Abstrak: Polimorfisme apolipoprotein E berhubu...</td>\n",
       "      <td>association of apo e polymorphism with blood p...</td>\n",
       "      <td>2013-01-31</td>\n",
       "      <td>association of apo e polymorphism with blood p...</td>\n",
       "      <td>en</td>\n",
       "      <td>0</td>\n",
       "    </tr>\n",
       "    <tr>\n",
       "      <th>3863</th>\n",
       "      <td>1036</td>\n",
       "      <td>2597999X</td>\n",
       "      <td>Abstrak. Perkiraan saat kematian dihitung mela...</td>\n",
       "      <td>effect of chrysomya domination on calculating ...</td>\n",
       "      <td>2013-01-31</td>\n",
       "      <td>effect of chrysomya domination on calculating ...</td>\n",
       "      <td>en</td>\n",
       "      <td>0</td>\n",
       "    </tr>\n",
       "    <tr>\n",
       "      <th>3864</th>\n",
       "      <td>1036</td>\n",
       "      <td>2597999X</td>\n",
       "      <td>Abstrak. Penelitian mengenai suksesi Diptera n...</td>\n",
       "      <td>non-calliphoridae-necrophagous-diptera success...</td>\n",
       "      <td>2013-01-31</td>\n",
       "      <td>non-calliphoridae-necrophagous-diptera success...</td>\n",
       "      <td>en</td>\n",
       "      <td>0</td>\n",
       "    </tr>\n",
       "    <tr>\n",
       "      <th>...</th>\n",
       "      <td>...</td>\n",
       "      <td>...</td>\n",
       "      <td>...</td>\n",
       "      <td>...</td>\n",
       "      <td>...</td>\n",
       "      <td>...</td>\n",
       "      <td>...</td>\n",
       "      <td>...</td>\n",
       "    </tr>\n",
       "    <tr>\n",
       "      <th>4364</th>\n",
       "      <td>1036</td>\n",
       "      <td>2597999X</td>\n",
       "      <td>Abstract: Sensorineural hearing disorder is on...</td>\n",
       "      <td>efektivitas implan koklea pada anak</td>\n",
       "      <td>2022-04-30</td>\n",
       "      <td>efektivitas implan koklea pada anak  gangguan ...</td>\n",
       "      <td>id</td>\n",
       "      <td>0</td>\n",
       "    </tr>\n",
       "    <tr>\n",
       "      <th>4365</th>\n",
       "      <td>1036</td>\n",
       "      <td>2597999X</td>\n",
       "      <td>Abstract:Since the arrival of the COVID-19 vir...</td>\n",
       "      <td>prosedur endoskopi tht-kl di era pandemi covid-19</td>\n",
       "      <td>2022-04-30</td>\n",
       "      <td>prosedur endoskopi tht-kl di era pandemi covid...</td>\n",
       "      <td>id</td>\n",
       "      <td>0</td>\n",
       "    </tr>\n",
       "    <tr>\n",
       "      <th>4366</th>\n",
       "      <td>1036</td>\n",
       "      <td>2597999X</td>\n",
       "      <td>ABSTRACT:  Stroke is an acute neurovascular di...</td>\n",
       "      <td>penggunaan transcranial magnetic stimulation p...</td>\n",
       "      <td>2023-12-06</td>\n",
       "      <td>penggunaan transcranial magnetic stimulation p...</td>\n",
       "      <td>id</td>\n",
       "      <td>0</td>\n",
       "    </tr>\n",
       "    <tr>\n",
       "      <th>4367</th>\n",
       "      <td>1036</td>\n",
       "      <td>2597999X</td>\n",
       "      <td>Abstract: Traumatic brain injury is an increas...</td>\n",
       "      <td>gangguan kognitif pasca cedera otak traumatik</td>\n",
       "      <td>2023-12-27</td>\n",
       "      <td>gangguan kognitif pasca cedera otak traumatik ...</td>\n",
       "      <td>id</td>\n",
       "      <td>0</td>\n",
       "    </tr>\n",
       "    <tr>\n",
       "      <th>4368</th>\n",
       "      <td>1036</td>\n",
       "      <td>2597999X</td>\n",
       "      <td>Abstract: Teenagers as a quarter of world popu...</td>\n",
       "      <td>hubungan antara obesitas, perilaku merokok dan...</td>\n",
       "      <td>2023-02-01</td>\n",
       "      <td>hubungan antara obesitas, perilaku merokok dan...</td>\n",
       "      <td>id</td>\n",
       "      <td>0</td>\n",
       "    </tr>\n",
       "  </tbody>\n",
       "</table>\n",
       "<p>509 rows × 8 columns</p>\n",
       "</div>"
      ],
      "text/plain": [
       "       jid     eissn                                               desc  \\\n",
       "3860  1036  2597999X  Abstract: Trauma can be defined as a physical ...   \n",
       "3861  1036  2597999X  Abstract: Toxoplasmosis in pregnancy causes th...   \n",
       "3862  1036  2597999X  Abstrak: Polimorfisme apolipoprotein E berhubu...   \n",
       "3863  1036  2597999X  Abstrak. Perkiraan saat kematian dihitung mela...   \n",
       "3864  1036  2597999X  Abstrak. Penelitian mengenai suksesi Diptera n...   \n",
       "...    ...       ...                                                ...   \n",
       "4364  1036  2597999X  Abstract: Sensorineural hearing disorder is on...   \n",
       "4365  1036  2597999X  Abstract:Since the arrival of the COVID-19 vir...   \n",
       "4366  1036  2597999X  ABSTRACT:  Stroke is an acute neurovascular di...   \n",
       "4367  1036  2597999X  Abstract: Traumatic brain injury is an increas...   \n",
       "4368  1036  2597999X  Abstract: Teenagers as a quarter of world popu...   \n",
       "\n",
       "                                                  title        date  \\\n",
       "3860  penatalaksanaan cairan perioperatif pada kasus...  2013-01-31   \n",
       "3861                     toksoplasmosis dalam kehamilan  2013-01-31   \n",
       "3862  association of apo e polymorphism with blood p...  2013-01-31   \n",
       "3863  effect of chrysomya domination on calculating ...  2013-01-31   \n",
       "3864  non-calliphoridae-necrophagous-diptera success...  2013-01-31   \n",
       "...                                                 ...         ...   \n",
       "4364                efektivitas implan koklea pada anak  2022-04-30   \n",
       "4365  prosedur endoskopi tht-kl di era pandemi covid-19  2022-04-30   \n",
       "4366  penggunaan transcranial magnetic stimulation p...  2023-12-06   \n",
       "4367      gangguan kognitif pasca cedera otak traumatik  2023-12-27   \n",
       "4368  hubungan antara obesitas, perilaku merokok dan...  2023-02-01   \n",
       "\n",
       "                                           data_cleaned lang  label  \n",
       "3860  penatalaksanaan cairan perioperatif pada kasus...   id      0  \n",
       "3861  toksoplasmosis dalam kehamilan  toksoplasmosis...   id      0  \n",
       "3862  association of apo e polymorphism with blood p...   en      0  \n",
       "3863  effect of chrysomya domination on calculating ...   en      0  \n",
       "3864  non-calliphoridae-necrophagous-diptera success...   en      0  \n",
       "...                                                 ...  ...    ...  \n",
       "4364  efektivitas implan koklea pada anak  gangguan ...   id      0  \n",
       "4365  prosedur endoskopi tht-kl di era pandemi covid...   id      0  \n",
       "4366  penggunaan transcranial magnetic stimulation p...   id      0  \n",
       "4367  gangguan kognitif pasca cedera otak traumatik ...   id      0  \n",
       "4368  hubungan antara obesitas, perilaku merokok dan...   id      0  \n",
       "\n",
       "[509 rows x 8 columns]"
      ]
     },
     "execution_count": 7,
     "metadata": {},
     "output_type": "execute_result"
    }
   ],
   "source": [
    "le = LabelEncoder()\n",
    "selected_journal['label'] = le.fit_transform(selected_journal.eissn)\n",
    "selected_journal"
   ]
  },
  {
   "cell_type": "code",
   "execution_count": 8,
   "metadata": {},
   "outputs": [
    {
     "data": {
      "text/plain": [
       "('correlation between allenâ€™s and inverse allenâ€™s tests  with diameters of ulnar and radial arteries',\n",
       " 'Abstrak: Arteri radialis semakin sering dipergunakan sebagai akses alternatif angiografi koroner dan intervensi karena dibanding akses femoralis, komplikasi perdarahan lebih rendah, mobilisasi lebih dini, dan biaya lebih murah. Terdapat beberapa hal yang dapat mengurangi keberhasilan prosedur ini; salah satunya ialah kegagalan pungsi karena ukuran a. radialis yang kecil. Studi sebelumnya menunjukkan bahwa uji Allen dapat digunakan untuk mendeteksi arteri dengan diameter yang lebih besar. Penelitian ini bertujuan untuk mengevaluasi apakah uji Allen dan inverse Allen berkorelasi dengan diameter a. ulnaris dan a. radialis. Penelitian ini berlangsung dari Juli hingga Desember 2012 di Laboratorium Kateterisasi Rumah Sakit Awal Bros Makassar. Pasien menjalani uji Allen dan inverse Allen sebelum prosedur. Ukuran diameter dalam dari lumen arteri radialis dan ulnaris diukur oleh operator dengan menggunakan analisis angiografi kuantitatif (operator tidak mengetahui hasil uji Allen). Uji Spearmanâ€™s rho digunakan untuk menganalisis korelasi antara uji Allen dan inverse Allen dengan diameter a. radialis dan a. ulnaris dengan P &lt; 0,05 dianggap bermakna. Analisis statistik menggunakan SPSS versi 19. Hasil penelitian memperlihatkan 121 pasien (98 laki-laki dan 23 perempuan, rerata usia 57,5 (SD Â± 11,9 tahun). Frekuensi crossover 3,3%. Uji Allen dan inverse Allen normal pada 116 pasien (95,8%). Rerata diameter a. radialis dan ulnaris ialah 2,14 (SD Â± 0,34 mm) dan 1,95 (SD Â± 0,45 mm). Uji korelasi Spearmanâ€™s rho menunjukkan korelasi bermakna antara uji Allen dan diameter a. ulnaris (P = 0,000; r = -0,485); uji inverse Allen dan diameter a. radialis (P = 0,015; r = -0,220). Simpulan: Terdapat korelasi bermakna antara uji Allen Â\\xa0dengan diameter a. ulnaris, dan uji inverse Allen dengan diameter a. radialis. Kedua uji ini sederhana dan dapat memberikan informasi tentang arteri mana memiliki diameter yang lebih besar. Bila uji Allen normal, maka a.ulnaris dapat dipergunakan sebagai akses alternatif ketika akses radialis gagal atau bahkan sebagai akses inisial jika uji inverse Allen abnormal atau waktu uji Allen lebih singkat dari inverse Allen, terutama untuk prosedur intervensi yang memerlukan arteri yang lebih besar sebagai akses. Kata kunci: uji Allen, uji inverse Allen, diameter, arteri radial, arteri ulnaris.Â\\xa0Â\\xa0     Abstract: Radial artery has been increasingly used as an alternative site for coronary angiography and intervention because of its advantages over femoral access, such as: a reduction in bleeding complications, early mobilisation, and lower cost. Despite these advantages, there are some challenges that reduce procedural success. One of them is the puncture failure owing to the small vessel size. A previous study has demonstrated consistently that the Allen test may be used for detecting the artery with the largest diameter. This study aimed to evaluate whether the Allenâ€™s and inverse Allenâ€™s tests correlate to the diameters of ulnar and radial arteries. This study was conducted from July to December 2012 in the Catheterization Laboratory of Awal Bros Hospital Makassar. Patients underwent the Allenâ€™s and inverse Allenâ€™s test before the procedure. The inner luminal diameters of radial and ulnar arteries were measured by an operator using quantitative angiographic analysis software. The operator was blinded to the results of the Allenâ€™s tests. The Pearson correlation test was used to analyze the correlation between Allenâ€™s and inverse Allenâ€™s test with the diameters of the radial and ulnar arteries. A P-value of &lt; 0.05 was considered as statistically significant. Statistical analysis was performed with Statistical Package for Social Sciences (SPSS) version 19. The results showed that there were 121 patients (98 males and 23 females, the mean age being 57.5 (SD Â± 11.9 years). The crossover rate was 3.3%. Both of the Allenâ€™s and inverse Allenâ€™s tests were normal in 116 patients (95.8%). By using a quantitative coronary analysis software, the mean diameters of the radial and the ulnar arteries wereÂ\\xa0 2.14 (SD Â± 0.34 mm) and 1.95 (SD Â± 0.45 mm), respectively. The Spearmanâ€™s rho correlation test showed significant correlations between the Allenâ€™s test and diameters of ulnar arteries (P = 0.000; r = -0.485), and between the inverse Allenâ€™s test and diameters of radial arteries (P = 0.015; r = -0.220). Conclusion: The Allenâ€™s test correlated to the diameters of the ulnar arteries and the inverse Allenâ€™s test correlated to the diameters of the radial arteries. The normal Allenâ€™s test indicated that the ulnar artery might be used as an alternative access site when the radial approach failed or even as an initial access if the inverse Allenâ€™s test was abnormal or the Allenâ€™s test was shorter than the inverse Allenâ€™s test, especially for the intervention procedure which needed a larger artery as the access site. These tests are simple and may provide some important information about arteries with larger diameters. Future studies with larger series of patients will be necessary to confirm our results. Keywords: Allenâ€™s test, inverse Allenâ€™s test, diameter, radial artery, ulnar artery.',\n",
       " 'correlation between allenâ€™s and inverse allenâ€™s tests  with diameters of ulnar and radial arteries  radial artery has been increasingly used as an alternative site for coronary angiography and intervention because of its advantages over femoral access such as a reduction in bleeding complications early mobilisation and lower cost despite these advantages there are some challenges that reduce procedural success one of them is the puncture failure owing to the small vessel size a previous study has demonstrated consistently that the allen test may be used for detecting the artery with the largest diameter this study aimed to evaluate whether the allenâs and inverse allenâs tests correlate to the diameters of ulnar and radial arteries this study was conducted from july to december  in the catheterization laboratory of awal bros hospital makassar patients underwent the allenâs and inverse allenâs test before the procedure the inner luminal diameters of radial and ulnar arteries were measured by an operator using quantitative angiographic analysis software the operator was blinded to the results of the allenâs tests the pearson correlation test was used to analyze the correlation between allenâs and inverse allenâs test with the diameters of the radial and ulnar arteries a pvalue of    was considered as statistically significant statistical analysis was performed with statistical package for social sciences spss version  the results showed that there were  patients  males and  females the mean age being   sd â   years the crossover rate was   both of the allenâs and inverse allenâs tests were normal in  patients   by using a quantitative coronary analysis software the mean diameters of the radial and the ulnar arteries wereâ   sd â   mm and   sd â   mm respectively the spearmanâs rho correlation test showed significant correlations between the allenâs test and diameters of ulnar arteries p    r    and between the inverse allenâs test and diameters of radial arteries p    r    conclusion the allenâs test correlated to the diameters of the ulnar arteries and the inverse allenâs test correlated to the diameters of the radial arteries the normal allenâs test indicated that the ulnar artery might be used as an alternative access site when the radial approach failed or even as an initial access if the inverse allenâs test was abnormal or the allenâs test was shorter than the inverse allenâs test especially for the intervention procedure which needed a larger artery as the access site these tests are simple and may provide some important information about arteries with larger diameters future studies with larger series of patients will be necessary to confirm our results keywords allenâs test inverse allenâs test diameter radial artery ulnar artery')"
      ]
     },
     "execution_count": 8,
     "metadata": {},
     "output_type": "execute_result"
    }
   ],
   "source": [
    "tst = selected_journal.sample()[['title', 'desc', 'data_cleaned']]\n",
    "tst.title.values[-1], tst.desc.values[-1], tst.data_cleaned.values[-1]"
   ]
  },
  {
   "cell_type": "code",
   "execution_count": 9,
   "metadata": {},
   "outputs": [
    {
     "data": {
      "text/plain": [
       "<Axes: xlabel='lang'>"
      ]
     },
     "execution_count": 9,
     "metadata": {},
     "output_type": "execute_result"
    },
    {
     "data": {
      "image/png": "[encoded data removed]",
      "text/plain": [
       "<Figure size 640x480 with 1 Axes>"
      ]
     },
     "metadata": {},
     "output_type": "display_data"
    }
   ],
   "source": [
    "selected_journal.groupby('lang').count().eissn.plot(kind='bar')"
   ]
  },
  {
   "cell_type": "code",
   "execution_count": 10,
   "metadata": {},
   "outputs": [
    {
     "data": {
      "text/plain": [
       "('moving from operative to preventive treatment  in dental caries management  for more than a hundred years blackâs principles of cavity preparation which emphasized âœextension for preventionâ have been widely practiced by dentists â most dentists have believed that dental caries could be controlled by restoring a decayed tooth however drilling and filling only reduce symptoms without eradicating the disease today preservation of a healthy tooth structure must be the main objective of every dental treatment because the process of dental caries and the role of fluoride as an anticaries agent have been understood thus prevention for extension is the appropriate term to replace extension for prevention minimum intervention dentistry midâ is a new approach in managing dental caries which consider identification and preventive treatment first and then restoration with minimal invasive treatment â midâs concept encourages dentistry âœto moveâ from operative surgical to preventive treatment in the management of dental caries thus almost totally eliminating operative intervention in the future keyword dental caries prevention demineralization and remineralization',\n",
       " 'displasia perkembangan panggul awal (lahir hingga usia 4 bulan)  displasia perkembangan panggul mengacu pada serangkaian abnormalitas pada panggul imatur yang mencakup displasia ringan hingga dislokasi identifikasi faktorfaktor risiko yang meliputi letak sungsang dan riwayat keluarga harus menigkatkan kecurigaan dokter akan displasia perkembangan panggul diagnosis ditegakkan melalui pemeriksaan fisik instabilitas panggul yang dapat dipalpasi panjang tungkai yang tidak sama dan lipatan kulit paha yang asimetris dapat ditemukan pada bayi baru lahir dengan dislokasi panggul sedangkan abnormalitas gait dan keterbatasan abduksi panggul lebih umum pada anakanak yang lebih tua peran ultrasonografi masih kontroversial tetapi secara umum untuk mengonfirmasi diagnosis dan menilai perkembangan panggul sejak dimulainya perawatan penggunaan brace merupakan perawatan lini pertama pada anakanak berusia kurang dari enam bulan pembedahan merupakan pilihan bagi anakanak dengan perawatan nonoperatif yang gagal dan pada anakanak yang didiagnosis setelah berusia enam bulan displasia perkembangan panggul sangat penting ditegakkan sejak dini untuk meningkatkan hasil perawatan dan mengurangi risiko komplikasi')"
      ]
     },
     "execution_count": 10,
     "metadata": {},
     "output_type": "execute_result"
    }
   ],
   "source": [
    "model_checkpoint = 'bert-base-cased'\n",
    "model_checkpoint2 = 'indobenchmark/indobert-base-p1'\n",
    "\n",
    "selected_journal_en = selected_journal[selected_journal.lang == 'en']\n",
    "selected_journal_id = selected_journal[selected_journal.lang == 'id']\n",
    "\n",
    "selected_journal_en.data_cleaned.sample().values[-1], selected_journal_id.data_cleaned.sample().values[-1]"
   ]
  },
  {
   "cell_type": "code",
   "execution_count": 11,
   "metadata": {},
   "outputs": [],
   "source": [
    "# finetuning1 = BertFinetuning(selected_journal_en, model_checkpoint, device, 32)\n",
    "# finetuning2 = BertFinetuning(selected_journal_id, model_checkpoint2)"
   ]
  },
  {
   "cell_type": "code",
   "execution_count": 12,
   "metadata": {},
   "outputs": [
    {
     "name": "stderr",
     "output_type": "stream",
     "text": [
      "A parameter name that contains `beta` will be renamed internally to `bias`. Please use a different name to suppress this warning.\n",
      "A parameter name that contains `gamma` will be renamed internally to `weight`. Please use a different name to suppress this warning.\n",
      "A parameter name that contains `beta` will be renamed internally to `bias`. Please use a different name to suppress this warning.\n",
      "A parameter name that contains `gamma` will be renamed internally to `weight`. Please use a different name to suppress this warning.\n",
      "A parameter name that contains `beta` will be renamed internally to `bias`. Please use a different name to suppress this warning.\n",
      "A parameter name that contains `gamma` will be renamed internally to `weight`. Please use a different name to suppress this warning.\n",
      "A parameter name that contains `beta` will be renamed internally to `bias`. Please use a different name to suppress this warning.\n",
      "A parameter name that contains `gamma` will be renamed internally to `weight`. Please use a different name to suppress this warning.\n",
      "A parameter name that contains `beta` will be renamed internally to `bias`. Please use a different name to suppress this warning.\n",
      "A parameter name that contains `gamma` will be renamed internally to `weight`. Please use a different name to suppress this warning.\n",
      "A parameter name that contains `beta` will be renamed internally to `bias`. Please use a different name to suppress this warning.\n",
      "A parameter name that contains `gamma` will be renamed internally to `weight`. Please use a different name to suppress this warning.\n",
      "A parameter name that contains `beta` will be renamed internally to `bias`. Please use a different name to suppress this warning.\n",
      "A parameter name that contains `gamma` will be renamed internally to `weight`. Please use a different name to suppress this warning.\n",
      "A parameter name that contains `beta` will be renamed internally to `bias`. Please use a different name to suppress this warning.\n",
      "A parameter name that contains `gamma` will be renamed internally to `weight`. Please use a different name to suppress this warning.\n",
      "A parameter name that contains `beta` will be renamed internally to `bias`. Please use a different name to suppress this warning.\n",
      "A parameter name that contains `gamma` will be renamed internally to `weight`. Please use a different name to suppress this warning.\n",
      "A parameter name that contains `beta` will be renamed internally to `bias`. Please use a different name to suppress this warning.\n",
      "A parameter name that contains `gamma` will be renamed internally to `weight`. Please use a different name to suppress this warning.\n",
      "A parameter name that contains `beta` will be renamed internally to `bias`. Please use a different name to suppress this warning.\n",
      "A parameter name that contains `gamma` will be renamed internally to `weight`. Please use a different name to suppress this warning.\n",
      "A parameter name that contains `beta` will be renamed internally to `bias`. Please use a different name to suppress this warning.\n",
      "A parameter name that contains `gamma` will be renamed internally to `weight`. Please use a different name to suppress this warning.\n",
      "A parameter name that contains `beta` will be renamed internally to `bias`. Please use a different name to suppress this warning.\n",
      "A parameter name that contains `gamma` will be renamed internally to `weight`. Please use a different name to suppress this warning.\n",
      "A parameter name that contains `beta` will be renamed internally to `bias`. Please use a different name to suppress this warning.\n",
      "A parameter name that contains `gamma` will be renamed internally to `weight`. Please use a different name to suppress this warning.\n",
      "A parameter name that contains `beta` will be renamed internally to `bias`. Please use a different name to suppress this warning.\n",
      "A parameter name that contains `gamma` will be renamed internally to `weight`. Please use a different name to suppress this warning.\n",
      "A parameter name that contains `beta` will be renamed internally to `bias`. Please use a different name to suppress this warning.\n",
      "A parameter name that contains `gamma` will be renamed internally to `weight`. Please use a different name to suppress this warning.\n",
      "A parameter name that contains `beta` will be renamed internally to `bias`. Please use a different name to suppress this warning.\n",
      "A parameter name that contains `gamma` will be renamed internally to `weight`. Please use a different name to suppress this warning.\n",
      "A parameter name that contains `beta` will be renamed internally to `bias`. Please use a different name to suppress this warning.\n",
      "A parameter name that contains `gamma` will be renamed internally to `weight`. Please use a different name to suppress this warning.\n",
      "A parameter name that contains `beta` will be renamed internally to `bias`. Please use a different name to suppress this warning.\n",
      "A parameter name that contains `gamma` will be renamed internally to `weight`. Please use a different name to suppress this warning.\n",
      "A parameter name that contains `beta` will be renamed internally to `bias`. Please use a different name to suppress this warning.\n",
      "A parameter name that contains `gamma` will be renamed internally to `weight`. Please use a different name to suppress this warning.\n",
      "A parameter name that contains `beta` will be renamed internally to `bias`. Please use a different name to suppress this warning.\n",
      "A parameter name that contains `gamma` will be renamed internally to `weight`. Please use a different name to suppress this warning.\n",
      "A parameter name that contains `beta` will be renamed internally to `bias`. Please use a different name to suppress this warning.\n",
      "A parameter name that contains `gamma` will be renamed internally to `weight`. Please use a different name to suppress this warning.\n",
      "A parameter name that contains `beta` will be renamed internally to `bias`. Please use a different name to suppress this warning.\n",
      "A parameter name that contains `gamma` will be renamed internally to `weight`. Please use a different name to suppress this warning.\n",
      "A parameter name that contains `beta` will be renamed internally to `bias`. Please use a different name to suppress this warning.\n",
      "A parameter name that contains `gamma` will be renamed internally to `weight`. Please use a different name to suppress this warning.\n",
      "A parameter name that contains `beta` will be renamed internally to `bias`. Please use a different name to suppress this warning.\n",
      "A parameter name that contains `gamma` will be renamed internally to `weight`. Please use a different name to suppress this warning.\n",
      "A parameter name that contains `beta` will be renamed internally to `bias`. Please use a different name to suppress this warning.\n",
      "A parameter name that contains `gamma` will be renamed internally to `weight`. Please use a different name to suppress this warning.\n",
      "d:\\GitHub\\Jurnal-Clustering\\venv\\lib\\site-packages\\transformers\\models\\bert\\modeling_bert.py:439: UserWarning: 1Torch was not compiled with flash attention. (Triggered internally at C:\\actions-runner\\_work\\pytorch\\pytorch\\builder\\windows\\pytorch\\aten\\src\\ATen\\native\\transformers\\cuda\\sdp_utils.cpp:555.)\n",
      "  attn_output = torch.nn.functional.scaled_dot_product_attention(\n"
     ]
    }
   ],
   "source": [
    "embedding_en = embed(selected_journal_en, model_checkpoint, device = device)\n",
    "embedding_id = embed(selected_journal_id, model_checkpoint2, device = device)"
   ]
  },
  {
   "cell_type": "code",
   "execution_count": 13,
   "metadata": {},
   "outputs": [],
   "source": [
    "# tokenizer = BertTokenizer.from_pretrained(model_checkpoint)\n",
    "# model = BertClassifierEmbed(1, model_checkpoint)\n",
    "# model.load_state_dict(torch.load('model/finetuned_pipeline3_bert_2.pt'))\n",
    "\n",
    "# embedding_w_finetune = embed_with_finetune(selected_journal_en.iloc[0:2], tokenizer, model, device)\n",
    "# embedding_w_finetune[0]"
   ]
  },
  {
   "cell_type": "code",
   "execution_count": 14,
   "metadata": {},
   "outputs": [
    {
     "data": {
      "text/plain": [
       "((38, 256, 768), (471, 256, 768))"
      ]
     },
     "execution_count": 14,
     "metadata": {},
     "output_type": "execute_result"
    }
   ],
   "source": [
    "embedding_en.shape, embedding_id.shape"
   ]
  },
  {
   "cell_type": "code",
   "execution_count": 15,
   "metadata": {},
   "outputs": [
    {
     "data": {
      "text/plain": [
       "(509, 256, 768)"
      ]
     },
     "execution_count": 15,
     "metadata": {},
     "output_type": "execute_result"
    }
   ],
   "source": [
    "embeddings = np.append(embedding_en, embedding_id, axis = 0)\n",
    "embeddings.shape"
   ]
  },
  {
   "cell_type": "code",
   "execution_count": 16,
   "metadata": {},
   "outputs": [
    {
     "data": {
      "text/plain": [
       "(509, 2)"
      ]
     },
     "execution_count": 16,
     "metadata": {},
     "output_type": "execute_result"
    }
   ],
   "source": [
    "X = embeddings.reshape(embeddings.shape[0], -1)\n",
    "\n",
    "pca = PCA(n_components=2, random_state=0)\n",
    "X = pca.fit_transform(X)\n",
    "\n",
    "X.shape"
   ]
  },
  {
   "cell_type": "code",
   "execution_count": 17,
   "metadata": {},
   "outputs": [
    {
     "name": "stdout",
     "output_type": "stream",
     "text": [
      "Best K: 2\n"
     ]
    },
    {
     "data": {
      "image/png": "[encoded data removed]",
      "text/plain": [
       "<Figure size 1500x500 with 1 Axes>"
      ]
     },
     "metadata": {},
     "output_type": "display_data"
    }
   ],
   "source": [
    "from sklearn.metrics import silhouette_score\n",
    "\n",
    "def silhouette_method(dataset):\n",
    "    silhouette_avg = []\n",
    "    for num_clusters in list(range(2,20)):\n",
    "        kmeans = KMeans(n_clusters=num_clusters, init = \"k-means++\", n_init = 10)\n",
    "        kmeans.fit_predict(dataset)\n",
    "        score = silhouette_score(dataset, kmeans.labels_)\n",
    "        silhouette_avg.append(score)\n",
    "\n",
    "    fig = plt.figure(figsize=(15, 5))\n",
    "    plt.plot(np.arange(2,20),silhouette_avg,'bx-')\n",
    "    plt.xlabel('Values of K') \n",
    "    plt.ylabel('Silhouette score') \n",
    "    plt.title('Silhouette analysis For Optimal k')\n",
    "    _ = plt.xticks(np.arange(2,20))\n",
    "\n",
    "    print (f\"Best K: {np.argmax(silhouette_avg)+2}\")\n",
    "\n",
    "    return np.argmax(silhouette_avg)+2\n",
    "\n",
    "best_n = silhouette_method(X)"
   ]
  },
  {
   "cell_type": "code",
   "execution_count": 18,
   "metadata": {},
   "outputs": [
    {
     "data": {
      "image/png": "[encoded data removed]",
      "text/plain": [
       "<Figure size 1500x500 with 1 Axes>"
      ]
     },
     "metadata": {},
     "output_type": "display_data"
    }
   ],
   "source": [
    "from scipy.spatial.distance import cdist\n",
    "\n",
    "def elbow_method2(dataset):\n",
    "    res = list()\n",
    "    n_cluster = range(1,20)\n",
    "    for n in n_cluster:\n",
    "        kmeans = KMeans(n_clusters=n)\n",
    "        kmeans.fit(dataset)\n",
    "        res.append(np.average(np.min(cdist(dataset, kmeans.cluster_centers_, 'euclidean'), axis=1)))\n",
    "\n",
    "    fig = plt.figure(figsize=(15, 5))\n",
    "    plt.plot(range(1, 20), res)\n",
    "    plt.xticks(range(1, 20))\n",
    "    plt.grid(True)\n",
    "    plt.title('Elbow curve')\n",
    "\n",
    "elbow_method2(X)"
   ]
  },
  {
   "cell_type": "code",
   "execution_count": 19,
   "metadata": {},
   "outputs": [],
   "source": [
    "num_clusters = 3\n",
    "kmeans = KMeans(n_clusters=num_clusters, random_state=0, max_iter=1000)\n",
    "kmeans.fit(X)\n",
    "\n",
    "cluster_labels = kmeans.labels_\n"
   ]
  },
  {
   "cell_type": "code",
   "execution_count": 31,
   "metadata": {},
   "outputs": [
    {
     "data": {
      "text/plain": [
       "72.92420058610584"
      ]
     },
     "execution_count": 31,
     "metadata": {},
     "output_type": "execute_result"
    }
   ],
   "source": [
    "outscoop_threshold"
   ]
  },
  {
   "cell_type": "code",
   "execution_count": 32,
   "metadata": {},
   "outputs": [],
   "source": [
    "# Mendapatkan koordinat pusat cluster\n",
    "centroids = kmeans.cluster_centers_\n",
    "\n",
    "# Menghitung jarak antara setiap titik data dengan centroid\n",
    "jarak_ke_centroid = np.array([np.sqrt(np.sum(x - centroids[cluster_labels[i]])**2) for i, x in enumerate(X)])\n",
    "\n",
    "# Menentukan batas jarak yang dianggap sebagai \"outscoop\"\n",
    "outscoop_threshold = np.mean(jarak_ke_centroid) + 2 * np.std(jarak_ke_centroid)\n",
    "\n",
    "# Memisahkan data yang masih masuk dalam \"scoop\" dan \"outscoop\"\n",
    "scoop_data = X[jarak_ke_centroid <= outscoop_threshold]\n",
    "outscoop_data = X[jarak_ke_centroid > outscoop_threshold]\n",
    "\n",
    "scoop_labels = np.ones(len(X))\n",
    "scoop_labels[jarak_ke_centroid > outscoop_threshold] = -1"
   ]
  },
  {
   "cell_type": "code",
   "execution_count": 21,
   "metadata": {},
   "outputs": [
    {
     "name": "stderr",
     "output_type": "stream",
     "text": [
      "d:\\GitHub\\Jurnal-Clustering\\functions.py:31: UserWarning: The palette list has more values (5) than needed (4), which may not be intended.\n",
      "  plot = sns.scatterplot(x='Dimension 1', y='Dimension 2', hue='plot_color', data=df_pca, palette=cluster_palette)\n"
     ]
    },
    {
     "data": {
      "image/png": "[encoded data removed]",
      "text/plain": [
       "<Figure size 800x600 with 1 Axes>"
      ]
     },
     "metadata": {},
     "output_type": "display_data"
    }
   ],
   "source": [
    "plot_vector_distribution(X, kmeans, scoop_labels, check_outscoop=True)"
   ]
  },
  {
   "cell_type": "code",
   "execution_count": 22,
   "metadata": {},
   "outputs": [
    {
     "name": "stderr",
     "output_type": "stream",
     "text": [
      "C:\\Users\\rarmn\\AppData\\Local\\Temp\\ipykernel_5652\\340930450.py:1: SettingWithCopyWarning: \n",
      "A value is trying to be set on a copy of a slice from a DataFrame.\n",
      "Try using .loc[row_indexer,col_indexer] = value instead\n",
      "\n",
      "See the caveats in the documentation: https://pandas.pydata.org/pandas-docs/stable/user_guide/indexing.html#returning-a-view-versus-a-copy\n",
      "  selected_journal_id['scoop'] = scoop_labels[:len(selected_journal_id)]\n",
      "C:\\Users\\rarmn\\AppData\\Local\\Temp\\ipykernel_5652\\340930450.py:2: SettingWithCopyWarning: \n",
      "A value is trying to be set on a copy of a slice from a DataFrame.\n",
      "Try using .loc[row_indexer,col_indexer] = value instead\n",
      "\n",
      "See the caveats in the documentation: https://pandas.pydata.org/pandas-docs/stable/user_guide/indexing.html#returning-a-view-versus-a-copy\n",
      "  selected_journal_en['scoop'] = scoop_labels[len(selected_journal_id):]\n"
     ]
    }
   ],
   "source": [
    "selected_journal_id['scoop'] = scoop_labels[:len(selected_journal_id)]\n",
    "selected_journal_en['scoop'] = scoop_labels[len(selected_journal_id):]"
   ]
  },
  {
   "cell_type": "code",
   "execution_count": 27,
   "metadata": {},
   "outputs": [],
   "source": [
    "jurnal_id = 5\n",
    "jurnal_type = 'finetuned_sinta'\n",
    "\n",
    "kmeans_model,  outscoop_threshold, pca_data, X_bert, df_res = load_data(jurnal_id, jurnal_type)\n"
   ]
  },
  {
   "cell_type": "code",
   "execution_count": 29,
   "metadata": {},
   "outputs": [
    {
     "data": {
      "text/plain": [
       "array(139.38281631)"
      ]
     },
     "execution_count": 29,
     "metadata": {},
     "output_type": "execute_result"
    }
   ],
   "source": [
    "outscoop_threshold"
   ]
  },
  {
   "cell_type": "code",
   "execution_count": 23,
   "metadata": {},
   "outputs": [
    {
     "data": {
      "text/plain": [
       "(scoop\n",
       " -1.0     20\n",
       "  1.0    451\n",
       " Name: jid, dtype: int64,\n",
       " scoop\n",
       " -1.0     2\n",
       "  1.0    36\n",
       " Name: jid, dtype: int64)"
      ]
     },
     "execution_count": 23,
     "metadata": {},
     "output_type": "execute_result"
    }
   ],
   "source": [
    "selected_journal_id.groupby('scoop').count().jid, selected_journal_en.groupby('scoop').count().jid"
   ]
  }
 ],
 "metadata": {
  "kernelspec": {
   "display_name": "venv",
   "language": "python",
   "name": "python3"
  },
  "language_info": {
   "codemirror_mode": {
    "name": "ipython",
    "version": 3
   },
   "file_extension": ".py",
   "mimetype": "text/x-python",
   "name": "python",
   "nbconvert_exporter": "python",
   "pygments_lexer": "ipython3",
   "version": "3.9.2rc1"
  }
 },
 "nbformat": 4,
 "nbformat_minor": 2
}
